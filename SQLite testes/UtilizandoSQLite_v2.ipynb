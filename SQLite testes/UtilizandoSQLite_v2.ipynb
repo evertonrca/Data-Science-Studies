{
  "nbformat": 4,
  "nbformat_minor": 0,
  "metadata": {
    "colab": {
      "name": "UtilizandoSQLite_v2.ipynb",
      "provenance": [],
      "mount_file_id": "1Q6jWn3TpYg0-mrIrMHmRp4nA2XkUNLGt",
      "authorship_tag": "ABX9TyNlM9XdD2kKhJxrYtj4iyGZ",
      "include_colab_link": true
    },
    "kernelspec": {
      "name": "python3",
      "display_name": "Python 3"
    },
    "language_info": {
      "name": "python"
    }
  },
  "cells": [
    {
      "cell_type": "markdown",
      "metadata": {
        "id": "view-in-github",
        "colab_type": "text"
      },
      "source": [
        "<a href=\"https://colab.research.google.com/github/evertonrca/Data-Science-Studies/blob/main/SQLite%20testes/UtilizandoSQLite_v2.ipynb\" target=\"_parent\"><img src=\"https://colab.research.google.com/assets/colab-badge.svg\" alt=\"Open In Colab\"/></a>"
      ]
    },
    {
      "cell_type": "code",
      "metadata": {
        "colab": {
          "base_uri": "https://localhost:8080/"
        },
        "id": "xbgUrFqf98hN",
        "outputId": "044c9294-5678-4253-80bb-331f31f808a9"
      },
      "source": [
        "! pip install pysqlite3"
      ],
      "execution_count": 81,
      "outputs": [
        {
          "output_type": "stream",
          "text": [
            "Requirement already satisfied: pysqlite3 in /usr/local/lib/python3.7/dist-packages (0.4.5)\n"
          ],
          "name": "stdout"
        }
      ]
    },
    {
      "cell_type": "code",
      "metadata": {
        "id": "SO69igPS-KXg"
      },
      "source": [
        "#Importando bibliotecas\n",
        "import sqlite3\n",
        "import datetime\n",
        "import random\n",
        "import time\n",
        "import os"
      ],
      "execution_count": 82,
      "outputs": []
    },
    {
      "cell_type": "code",
      "metadata": {
        "id": "_35RusAt-Rsx"
      },
      "source": [
        "os.remove('/content/drive/MyDrive/Colab Notebooks/Python/Python-DSA/Cap06/Teste_2.db') if os.path.exists('/content/drive/MyDrive/Colab Notebooks/Python/Python-DSA/Cap06/Teste_2.db') else None"
      ],
      "execution_count": 83,
      "outputs": []
    },
    {
      "cell_type": "code",
      "metadata": {
        "id": "DBtrzhhj-kvF"
      },
      "source": [
        "con = sqlite3.connect('/content/drive/MyDrive/Colab Notebooks/Python/Python-DSA/Cap06/Teste_2.db')\n",
        "cursor = con.cursor()"
      ],
      "execution_count": 84,
      "outputs": []
    },
    {
      "cell_type": "code",
      "metadata": {
        "id": "rodH4PKh-8gp"
      },
      "source": [
        "#função para criar tabela\n",
        "def criar_tabela(nome_tabela):\n",
        "  cursor.execute(f'create table {nome_tabela} (Id int primary key not null, Data datetime not null, Venda int not null)')"
      ],
      "execution_count": 85,
      "outputs": []
    },
    {
      "cell_type": "code",
      "metadata": {
        "id": "Ca3WteyWBajC"
      },
      "source": [
        "criar_tabela('teste')"
      ],
      "execution_count": 86,
      "outputs": []
    },
    {
      "cell_type": "code",
      "metadata": {
        "id": "IQC3UIO9DIh0"
      },
      "source": [
        "#Inserindo dados aleatórios\n",
        "insere = 'insert into teste values (?, ?, ?)'"
      ],
      "execution_count": 87,
      "outputs": []
    },
    {
      "cell_type": "code",
      "metadata": {
        "id": "cBZyWNcLB6VJ"
      },
      "source": [
        "#Verificando os dados\n",
        "def visualiza_tabela(nome_tabela):\n",
        "  cursor.execute(f'select * from {nome_tabela}')\n",
        "  print(f'Tabela: {nome_tabela}\\n') \n",
        "  return cursor.fetchall()"
      ],
      "execution_count": 88,
      "outputs": []
    },
    {
      "cell_type": "code",
      "metadata": {
        "id": "wt8zFFHipUFy"
      },
      "source": [
        "def insere_dados(ID, DATA, VENDAS):\n",
        "  cursor.execute(insere, [ID, DATA, VENDAS])\n",
        "  con.commit()\n",
        "  return print(f'Dados inseridos:\\nId: {ID}\\nData: {DATA}\\nVendas: {VENDAS}')"
      ],
      "execution_count": 89,
      "outputs": []
    },
    {
      "cell_type": "code",
      "metadata": {
        "id": "9k6aeAeGEiBD"
      },
      "source": [
        "for i in range(0,20):\n",
        "  cursor.execute(insere, [i, datetime.datetime.now(), random.randrange(1000, 5000)])\n",
        "con.commit()"
      ],
      "execution_count": 90,
      "outputs": []
    },
    {
      "cell_type": "code",
      "metadata": {
        "colab": {
          "base_uri": "https://localhost:8080/"
        },
        "id": "FoZm3ZGYGaJr",
        "outputId": "95b59236-f3e8-4df7-97cd-1f06326dd436"
      },
      "source": [
        "visualiza_tabela('teste')"
      ],
      "execution_count": 91,
      "outputs": [
        {
          "output_type": "stream",
          "text": [
            "Tabela: teste\n",
            "\n"
          ],
          "name": "stdout"
        },
        {
          "output_type": "execute_result",
          "data": {
            "text/plain": [
              "[(0, '2021-04-04 20:59:51.722827', 1202),\n",
              " (1, '2021-04-04 20:59:51.728283', 2176),\n",
              " (2, '2021-04-04 20:59:51.728343', 3042),\n",
              " (3, '2021-04-04 20:59:51.728361', 2057),\n",
              " (4, '2021-04-04 20:59:51.728374', 3505),\n",
              " (5, '2021-04-04 20:59:51.728386', 4079),\n",
              " (6, '2021-04-04 20:59:51.728399', 3287),\n",
              " (7, '2021-04-04 20:59:51.728410', 3769),\n",
              " (8, '2021-04-04 20:59:51.728422', 1660),\n",
              " (9, '2021-04-04 20:59:51.728434', 2730),\n",
              " (10, '2021-04-04 20:59:51.728447', 1665),\n",
              " (11, '2021-04-04 20:59:51.728458', 1510),\n",
              " (12, '2021-04-04 20:59:51.728469', 3010),\n",
              " (13, '2021-04-04 20:59:51.728481', 1751),\n",
              " (14, '2021-04-04 20:59:51.728494', 2210),\n",
              " (15, '2021-04-04 20:59:51.728506', 2691),\n",
              " (16, '2021-04-04 20:59:51.728518', 1532),\n",
              " (17, '2021-04-04 20:59:51.728530', 3589),\n",
              " (18, '2021-04-04 20:59:51.728542', 2162),\n",
              " (19, '2021-04-04 20:59:51.728554', 1913)]"
            ]
          },
          "metadata": {
            "tags": []
          },
          "execution_count": 91
        }
      ]
    },
    {
      "cell_type": "code",
      "metadata": {
        "colab": {
          "base_uri": "https://localhost:8080/"
        },
        "id": "_6EtqgrgqjQv",
        "outputId": "64598568-ad86-4c2e-cf41-25b9f1e020c4"
      },
      "source": [
        "insere_dados(20, datetime.datetime.now(), 3568)"
      ],
      "execution_count": 92,
      "outputs": [
        {
          "output_type": "stream",
          "text": [
            "Dados inseridos:\n",
            "Id: 20\n",
            "Data: 2021-04-04 20:59:51.762228\n",
            "Vendas: 3568\n"
          ],
          "name": "stdout"
        }
      ]
    },
    {
      "cell_type": "code",
      "metadata": {
        "colab": {
          "base_uri": "https://localhost:8080/"
        },
        "id": "Mu-DTu51q1gS",
        "outputId": "5ecd8451-cee6-41bc-bf60-aad2f911e1bd"
      },
      "source": [
        "visualiza_tabela('teste')"
      ],
      "execution_count": 93,
      "outputs": [
        {
          "output_type": "stream",
          "text": [
            "Tabela: teste\n",
            "\n"
          ],
          "name": "stdout"
        },
        {
          "output_type": "execute_result",
          "data": {
            "text/plain": [
              "[(0, '2021-04-04 20:59:51.722827', 1202),\n",
              " (1, '2021-04-04 20:59:51.728283', 2176),\n",
              " (2, '2021-04-04 20:59:51.728343', 3042),\n",
              " (3, '2021-04-04 20:59:51.728361', 2057),\n",
              " (4, '2021-04-04 20:59:51.728374', 3505),\n",
              " (5, '2021-04-04 20:59:51.728386', 4079),\n",
              " (6, '2021-04-04 20:59:51.728399', 3287),\n",
              " (7, '2021-04-04 20:59:51.728410', 3769),\n",
              " (8, '2021-04-04 20:59:51.728422', 1660),\n",
              " (9, '2021-04-04 20:59:51.728434', 2730),\n",
              " (10, '2021-04-04 20:59:51.728447', 1665),\n",
              " (11, '2021-04-04 20:59:51.728458', 1510),\n",
              " (12, '2021-04-04 20:59:51.728469', 3010),\n",
              " (13, '2021-04-04 20:59:51.728481', 1751),\n",
              " (14, '2021-04-04 20:59:51.728494', 2210),\n",
              " (15, '2021-04-04 20:59:51.728506', 2691),\n",
              " (16, '2021-04-04 20:59:51.728518', 1532),\n",
              " (17, '2021-04-04 20:59:51.728530', 3589),\n",
              " (18, '2021-04-04 20:59:51.728542', 2162),\n",
              " (19, '2021-04-04 20:59:51.728554', 1913),\n",
              " (20, '2021-04-04 20:59:51.762228', 3568)]"
            ]
          },
          "metadata": {
            "tags": []
          },
          "execution_count": 93
        }
      ]
    },
    {
      "cell_type": "code",
      "metadata": {
        "id": "bYwuuEkvriC9"
      },
      "source": [
        "con.close()"
      ],
      "execution_count": 94,
      "outputs": []
    }
  ]
}