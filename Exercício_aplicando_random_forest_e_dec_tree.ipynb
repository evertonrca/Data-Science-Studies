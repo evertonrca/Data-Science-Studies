{
  "nbformat": 4,
  "nbformat_minor": 0,
  "metadata": {
    "kernelspec": {
      "display_name": "Python 3",
      "language": "python",
      "name": "python3"
    },
    "language_info": {
      "codemirror_mode": {
        "name": "ipython",
        "version": 3
      },
      "file_extension": ".py",
      "mimetype": "text/x-python",
      "name": "python",
      "nbconvert_exporter": "python",
      "pygments_lexer": "ipython3",
      "version": "3.6.5"
    },
    "colab": {
      "name": "Exercício - aplicando random forest e dec tree.ipynb",
      "provenance": [],
      "collapsed_sections": [],
      "toc_visible": true,
      "include_colab_link": true
    }
  },
  "cells": [
    {
      "cell_type": "markdown",
      "metadata": {
        "id": "view-in-github",
        "colab_type": "text"
      },
      "source": [
        "<a href=\"https://colab.research.google.com/github/evertonrca/Data-Science-Studies/blob/main/Exerc%C3%ADcio_aplicando_random_forest_e_dec_tree.ipynb\" target=\"_parent\"><img src=\"https://colab.research.google.com/assets/colab-badge.svg\" alt=\"Open In Colab\"/></a>"
      ]
    },
    {
      "cell_type": "markdown",
      "metadata": {
        "id": "3D2dVhxVw7gB"
      },
      "source": [
        "**Aplicação dos estudos realizados a partir do curso Data Science do Zero, foram utilizados os algoritmos Randon Forest e Decision Tree**\r\n",
        "\r\n"
      ]
    },
    {
      "cell_type": "markdown",
      "metadata": {
        "id": "jaCLtF-U5SOR"
      },
      "source": [
        "# Random Forest\n"
      ]
    },
    {
      "cell_type": "code",
      "metadata": {
        "colab": {
          "base_uri": "https://localhost:8080/"
        },
        "id": "BQtAG4UJi55s",
        "outputId": "c4291131-58fe-4029-85c3-7050cf81f44c"
      },
      "source": [
        "from google.colab import drive\n",
        "drive.mount('/content/drive')"
      ],
      "execution_count": 1,
      "outputs": [
        {
          "output_type": "stream",
          "text": [
            "Mounted at /content/drive\n"
          ],
          "name": "stdout"
        }
      ]
    },
    {
      "cell_type": "markdown",
      "metadata": {
        "id": "2L5PNpx8xAcU"
      },
      "source": [
        "# Importando o banco de dados"
      ]
    },
    {
      "cell_type": "code",
      "metadata": {
        "id": "k5YgMP5skk3y"
      },
      "source": [
        "import pandas as pd\r\n",
        "import numpy as np\r\n",
        "from sklearn.preprocessing import LabelEncoder"
      ],
      "execution_count": 2,
      "outputs": []
    },
    {
      "cell_type": "code",
      "metadata": {
        "id": "7GWauu1Lkk9U"
      },
      "source": [
        "df = pd.read_csv('drive/MyDrive/Colab Notebooks/Data Science do Zero/Módulo 8 - Machine Learning/materiais-apoio-random-forest/random-forest-materiais-apoio/xAPI-Edu-Data.csv')"
      ],
      "execution_count": 3,
      "outputs": []
    },
    {
      "cell_type": "code",
      "metadata": {
        "id": "DMK73MTbklCs",
        "colab": {
          "base_uri": "https://localhost:8080/",
          "height": 217
        },
        "outputId": "34acfb0d-3323-4dac-bdea-6e4485e8214b"
      },
      "source": [
        "df.head()"
      ],
      "execution_count": 4,
      "outputs": [
        {
          "output_type": "execute_result",
          "data": {
            "text/html": [
              "<div>\n",
              "<style scoped>\n",
              "    .dataframe tbody tr th:only-of-type {\n",
              "        vertical-align: middle;\n",
              "    }\n",
              "\n",
              "    .dataframe tbody tr th {\n",
              "        vertical-align: top;\n",
              "    }\n",
              "\n",
              "    .dataframe thead th {\n",
              "        text-align: right;\n",
              "    }\n",
              "</style>\n",
              "<table border=\"1\" class=\"dataframe\">\n",
              "  <thead>\n",
              "    <tr style=\"text-align: right;\">\n",
              "      <th></th>\n",
              "      <th>gender</th>\n",
              "      <th>NationalITy</th>\n",
              "      <th>PlaceofBirth</th>\n",
              "      <th>StageID</th>\n",
              "      <th>GradeID</th>\n",
              "      <th>SectionID</th>\n",
              "      <th>Topic</th>\n",
              "      <th>Semester</th>\n",
              "      <th>Relation</th>\n",
              "      <th>raisedhands</th>\n",
              "      <th>VisITedResources</th>\n",
              "      <th>AnnouncementsView</th>\n",
              "      <th>Discussion</th>\n",
              "      <th>ParentAnsweringSurvey</th>\n",
              "      <th>ParentschoolSatisfaction</th>\n",
              "      <th>StudentAbsenceDays</th>\n",
              "      <th>Class</th>\n",
              "    </tr>\n",
              "  </thead>\n",
              "  <tbody>\n",
              "    <tr>\n",
              "      <th>0</th>\n",
              "      <td>M</td>\n",
              "      <td>KW</td>\n",
              "      <td>KuwaIT</td>\n",
              "      <td>lowerlevel</td>\n",
              "      <td>G-04</td>\n",
              "      <td>A</td>\n",
              "      <td>IT</td>\n",
              "      <td>F</td>\n",
              "      <td>Father</td>\n",
              "      <td>15</td>\n",
              "      <td>16</td>\n",
              "      <td>2</td>\n",
              "      <td>20</td>\n",
              "      <td>Yes</td>\n",
              "      <td>Good</td>\n",
              "      <td>Under-7</td>\n",
              "      <td>M</td>\n",
              "    </tr>\n",
              "    <tr>\n",
              "      <th>1</th>\n",
              "      <td>M</td>\n",
              "      <td>KW</td>\n",
              "      <td>KuwaIT</td>\n",
              "      <td>lowerlevel</td>\n",
              "      <td>G-04</td>\n",
              "      <td>A</td>\n",
              "      <td>IT</td>\n",
              "      <td>F</td>\n",
              "      <td>Father</td>\n",
              "      <td>20</td>\n",
              "      <td>20</td>\n",
              "      <td>3</td>\n",
              "      <td>25</td>\n",
              "      <td>Yes</td>\n",
              "      <td>Good</td>\n",
              "      <td>Under-7</td>\n",
              "      <td>M</td>\n",
              "    </tr>\n",
              "    <tr>\n",
              "      <th>2</th>\n",
              "      <td>M</td>\n",
              "      <td>KW</td>\n",
              "      <td>KuwaIT</td>\n",
              "      <td>lowerlevel</td>\n",
              "      <td>G-04</td>\n",
              "      <td>A</td>\n",
              "      <td>IT</td>\n",
              "      <td>F</td>\n",
              "      <td>Father</td>\n",
              "      <td>10</td>\n",
              "      <td>7</td>\n",
              "      <td>0</td>\n",
              "      <td>30</td>\n",
              "      <td>No</td>\n",
              "      <td>Bad</td>\n",
              "      <td>Above-7</td>\n",
              "      <td>L</td>\n",
              "    </tr>\n",
              "    <tr>\n",
              "      <th>3</th>\n",
              "      <td>M</td>\n",
              "      <td>KW</td>\n",
              "      <td>KuwaIT</td>\n",
              "      <td>lowerlevel</td>\n",
              "      <td>G-04</td>\n",
              "      <td>A</td>\n",
              "      <td>IT</td>\n",
              "      <td>F</td>\n",
              "      <td>Father</td>\n",
              "      <td>30</td>\n",
              "      <td>25</td>\n",
              "      <td>5</td>\n",
              "      <td>35</td>\n",
              "      <td>No</td>\n",
              "      <td>Bad</td>\n",
              "      <td>Above-7</td>\n",
              "      <td>L</td>\n",
              "    </tr>\n",
              "    <tr>\n",
              "      <th>4</th>\n",
              "      <td>M</td>\n",
              "      <td>KW</td>\n",
              "      <td>KuwaIT</td>\n",
              "      <td>lowerlevel</td>\n",
              "      <td>G-04</td>\n",
              "      <td>A</td>\n",
              "      <td>IT</td>\n",
              "      <td>F</td>\n",
              "      <td>Father</td>\n",
              "      <td>40</td>\n",
              "      <td>50</td>\n",
              "      <td>12</td>\n",
              "      <td>50</td>\n",
              "      <td>No</td>\n",
              "      <td>Bad</td>\n",
              "      <td>Above-7</td>\n",
              "      <td>M</td>\n",
              "    </tr>\n",
              "  </tbody>\n",
              "</table>\n",
              "</div>"
            ],
            "text/plain": [
              "  gender NationalITy  ... StudentAbsenceDays Class\n",
              "0      M          KW  ...            Under-7     M\n",
              "1      M          KW  ...            Under-7     M\n",
              "2      M          KW  ...            Above-7     L\n",
              "3      M          KW  ...            Above-7     L\n",
              "4      M          KW  ...            Above-7     M\n",
              "\n",
              "[5 rows x 17 columns]"
            ]
          },
          "metadata": {
            "tags": []
          },
          "execution_count": 4
        }
      ]
    },
    {
      "cell_type": "code",
      "metadata": {
        "id": "JwcXLxqTlebU",
        "colab": {
          "base_uri": "https://localhost:8080/"
        },
        "outputId": "217976da-be0c-48c3-f83b-ca05c5e4d219"
      },
      "source": [
        "df.info()"
      ],
      "execution_count": 5,
      "outputs": [
        {
          "output_type": "stream",
          "text": [
            "<class 'pandas.core.frame.DataFrame'>\n",
            "RangeIndex: 480 entries, 0 to 479\n",
            "Data columns (total 17 columns):\n",
            " #   Column                    Non-Null Count  Dtype \n",
            "---  ------                    --------------  ----- \n",
            " 0   gender                    480 non-null    object\n",
            " 1   NationalITy               480 non-null    object\n",
            " 2   PlaceofBirth              480 non-null    object\n",
            " 3   StageID                   480 non-null    object\n",
            " 4   GradeID                   480 non-null    object\n",
            " 5   SectionID                 480 non-null    object\n",
            " 6   Topic                     480 non-null    object\n",
            " 7   Semester                  480 non-null    object\n",
            " 8   Relation                  480 non-null    object\n",
            " 9   raisedhands               480 non-null    int64 \n",
            " 10  VisITedResources          480 non-null    int64 \n",
            " 11  AnnouncementsView         480 non-null    int64 \n",
            " 12  Discussion                480 non-null    int64 \n",
            " 13  ParentAnsweringSurvey     480 non-null    object\n",
            " 14  ParentschoolSatisfaction  480 non-null    object\n",
            " 15  StudentAbsenceDays        480 non-null    object\n",
            " 16  Class                     480 non-null    object\n",
            "dtypes: int64(4), object(13)\n",
            "memory usage: 63.9+ KB\n"
          ],
          "name": "stdout"
        }
      ]
    },
    {
      "cell_type": "code",
      "metadata": {
        "id": "RL87B2cmleg3",
        "colab": {
          "base_uri": "https://localhost:8080/"
        },
        "outputId": "a38fc1f6-e1f3-4118-e131-429f757688a6"
      },
      "source": [
        "df.shape"
      ],
      "execution_count": 6,
      "outputs": [
        {
          "output_type": "execute_result",
          "data": {
            "text/plain": [
              "(480, 17)"
            ]
          },
          "metadata": {
            "tags": []
          },
          "execution_count": 6
        }
      ]
    },
    {
      "cell_type": "code",
      "metadata": {
        "colab": {
          "base_uri": "https://localhost:8080/"
        },
        "id": "Qr_Q3VJwlel8",
        "outputId": "db0336a9-7d0d-4341-fd7e-32d571d5fada"
      },
      "source": [
        "df['Class'].value_counts()"
      ],
      "execution_count": 7,
      "outputs": [
        {
          "output_type": "execute_result",
          "data": {
            "text/plain": [
              "M    211\n",
              "H    142\n",
              "L    127\n",
              "Name: Class, dtype: int64"
            ]
          },
          "metadata": {
            "tags": []
          },
          "execution_count": 7
        }
      ]
    },
    {
      "cell_type": "markdown",
      "metadata": {
        "id": "HQgokp-KwlS3"
      },
      "source": [
        "# Convertendo categorias com o label encoder"
      ]
    },
    {
      "cell_type": "code",
      "metadata": {
        "id": "TtoT2yxnklHe"
      },
      "source": [
        "# Convertendo os dados de string para int (categóricos)\r\n",
        "carac = df\r\n",
        "colum_carac = carac.dtypes.pipe(lambda carac: carac[carac=='object']).index\r\n",
        "for coluna in colum_carac:\r\n",
        "  label = LabelEncoder()\r\n",
        "  carac[coluna] = label.fit_transform(carac[coluna])"
      ],
      "execution_count": 8,
      "outputs": []
    },
    {
      "cell_type": "code",
      "metadata": {
        "colab": {
          "base_uri": "https://localhost:8080/",
          "height": 217
        },
        "id": "6Ahb2BwIk_pS",
        "outputId": "fd582cff-9b77-4ac5-81c3-56efabe506b7"
      },
      "source": [
        "df.head()"
      ],
      "execution_count": 9,
      "outputs": [
        {
          "output_type": "execute_result",
          "data": {
            "text/html": [
              "<div>\n",
              "<style scoped>\n",
              "    .dataframe tbody tr th:only-of-type {\n",
              "        vertical-align: middle;\n",
              "    }\n",
              "\n",
              "    .dataframe tbody tr th {\n",
              "        vertical-align: top;\n",
              "    }\n",
              "\n",
              "    .dataframe thead th {\n",
              "        text-align: right;\n",
              "    }\n",
              "</style>\n",
              "<table border=\"1\" class=\"dataframe\">\n",
              "  <thead>\n",
              "    <tr style=\"text-align: right;\">\n",
              "      <th></th>\n",
              "      <th>gender</th>\n",
              "      <th>NationalITy</th>\n",
              "      <th>PlaceofBirth</th>\n",
              "      <th>StageID</th>\n",
              "      <th>GradeID</th>\n",
              "      <th>SectionID</th>\n",
              "      <th>Topic</th>\n",
              "      <th>Semester</th>\n",
              "      <th>Relation</th>\n",
              "      <th>raisedhands</th>\n",
              "      <th>VisITedResources</th>\n",
              "      <th>AnnouncementsView</th>\n",
              "      <th>Discussion</th>\n",
              "      <th>ParentAnsweringSurvey</th>\n",
              "      <th>ParentschoolSatisfaction</th>\n",
              "      <th>StudentAbsenceDays</th>\n",
              "      <th>Class</th>\n",
              "    </tr>\n",
              "  </thead>\n",
              "  <tbody>\n",
              "    <tr>\n",
              "      <th>0</th>\n",
              "      <td>1</td>\n",
              "      <td>4</td>\n",
              "      <td>4</td>\n",
              "      <td>2</td>\n",
              "      <td>1</td>\n",
              "      <td>0</td>\n",
              "      <td>7</td>\n",
              "      <td>0</td>\n",
              "      <td>0</td>\n",
              "      <td>15</td>\n",
              "      <td>16</td>\n",
              "      <td>2</td>\n",
              "      <td>20</td>\n",
              "      <td>1</td>\n",
              "      <td>1</td>\n",
              "      <td>1</td>\n",
              "      <td>2</td>\n",
              "    </tr>\n",
              "    <tr>\n",
              "      <th>1</th>\n",
              "      <td>1</td>\n",
              "      <td>4</td>\n",
              "      <td>4</td>\n",
              "      <td>2</td>\n",
              "      <td>1</td>\n",
              "      <td>0</td>\n",
              "      <td>7</td>\n",
              "      <td>0</td>\n",
              "      <td>0</td>\n",
              "      <td>20</td>\n",
              "      <td>20</td>\n",
              "      <td>3</td>\n",
              "      <td>25</td>\n",
              "      <td>1</td>\n",
              "      <td>1</td>\n",
              "      <td>1</td>\n",
              "      <td>2</td>\n",
              "    </tr>\n",
              "    <tr>\n",
              "      <th>2</th>\n",
              "      <td>1</td>\n",
              "      <td>4</td>\n",
              "      <td>4</td>\n",
              "      <td>2</td>\n",
              "      <td>1</td>\n",
              "      <td>0</td>\n",
              "      <td>7</td>\n",
              "      <td>0</td>\n",
              "      <td>0</td>\n",
              "      <td>10</td>\n",
              "      <td>7</td>\n",
              "      <td>0</td>\n",
              "      <td>30</td>\n",
              "      <td>0</td>\n",
              "      <td>0</td>\n",
              "      <td>0</td>\n",
              "      <td>1</td>\n",
              "    </tr>\n",
              "    <tr>\n",
              "      <th>3</th>\n",
              "      <td>1</td>\n",
              "      <td>4</td>\n",
              "      <td>4</td>\n",
              "      <td>2</td>\n",
              "      <td>1</td>\n",
              "      <td>0</td>\n",
              "      <td>7</td>\n",
              "      <td>0</td>\n",
              "      <td>0</td>\n",
              "      <td>30</td>\n",
              "      <td>25</td>\n",
              "      <td>5</td>\n",
              "      <td>35</td>\n",
              "      <td>0</td>\n",
              "      <td>0</td>\n",
              "      <td>0</td>\n",
              "      <td>1</td>\n",
              "    </tr>\n",
              "    <tr>\n",
              "      <th>4</th>\n",
              "      <td>1</td>\n",
              "      <td>4</td>\n",
              "      <td>4</td>\n",
              "      <td>2</td>\n",
              "      <td>1</td>\n",
              "      <td>0</td>\n",
              "      <td>7</td>\n",
              "      <td>0</td>\n",
              "      <td>0</td>\n",
              "      <td>40</td>\n",
              "      <td>50</td>\n",
              "      <td>12</td>\n",
              "      <td>50</td>\n",
              "      <td>0</td>\n",
              "      <td>0</td>\n",
              "      <td>0</td>\n",
              "      <td>2</td>\n",
              "    </tr>\n",
              "  </tbody>\n",
              "</table>\n",
              "</div>"
            ],
            "text/plain": [
              "   gender  NationalITy  ...  StudentAbsenceDays  Class\n",
              "0       1            4  ...                   1      2\n",
              "1       1            4  ...                   1      2\n",
              "2       1            4  ...                   0      1\n",
              "3       1            4  ...                   0      1\n",
              "4       1            4  ...                   0      2\n",
              "\n",
              "[5 rows x 17 columns]"
            ]
          },
          "metadata": {
            "tags": []
          },
          "execution_count": 9
        }
      ]
    },
    {
      "cell_type": "markdown",
      "metadata": {
        "id": "jRJZ3ocuwwpS"
      },
      "source": [
        "# Separando dados de treino e teste e treinando o modelo random forest vs arvore de decisão"
      ]
    },
    {
      "cell_type": "code",
      "metadata": {
        "id": "jJyo-K2ixFOq"
      },
      "source": [
        "# Importando bibliotecas\r\n",
        "from sklearn.tree import export_graphviz\r\n",
        "from sklearn.ensemble import RandomForestClassifier\r\n",
        "import matplotlib.pyplot as plt\r\n",
        "import seaborn as sns\r\n",
        "from sklearn.model_selection import cross_val_predict\r\n",
        "from sklearn.model_selection import train_test_split\r\n",
        "from sklearn.metrics import classification_report\r\n",
        "from sklearn.model_selection import cross_val_score"
      ],
      "execution_count": 10,
      "outputs": []
    },
    {
      "cell_type": "code",
      "metadata": {
        "id": "VbWOCzdzxFTF"
      },
      "source": [
        "treino = df.drop(columns='Class')"
      ],
      "execution_count": 11,
      "outputs": []
    },
    {
      "cell_type": "code",
      "metadata": {
        "id": "XaoR8sHTxFXf"
      },
      "source": [
        "classes = df['Class']"
      ],
      "execution_count": 12,
      "outputs": []
    },
    {
      "cell_type": "code",
      "metadata": {
        "id": "Yl_Bd7sQxFbk"
      },
      "source": [
        "randomf = RandomForestClassifier(random_state=42)"
      ],
      "execution_count": 13,
      "outputs": []
    },
    {
      "cell_type": "code",
      "metadata": {
        "id": "dBJLQqav9Xp1"
      },
      "source": [
        "X_train, X_test, y_train, y_test = train_test_split(treino, classes, test_size=0.30, random_state=42)"
      ],
      "execution_count": 14,
      "outputs": []
    },
    {
      "cell_type": "code",
      "metadata": {
        "colab": {
          "base_uri": "https://localhost:8080/"
        },
        "id": "qqPiMJbl9XxI",
        "outputId": "eedcc7af-b034-496c-a83c-f227ea2204e4"
      },
      "source": [
        "randomf.fit(X_train, y_train)"
      ],
      "execution_count": 15,
      "outputs": [
        {
          "output_type": "execute_result",
          "data": {
            "text/plain": [
              "RandomForestClassifier(bootstrap=True, ccp_alpha=0.0, class_weight=None,\n",
              "                       criterion='gini', max_depth=None, max_features='auto',\n",
              "                       max_leaf_nodes=None, max_samples=None,\n",
              "                       min_impurity_decrease=0.0, min_impurity_split=None,\n",
              "                       min_samples_leaf=1, min_samples_split=2,\n",
              "                       min_weight_fraction_leaf=0.0, n_estimators=100,\n",
              "                       n_jobs=None, oob_score=False, random_state=42, verbose=0,\n",
              "                       warm_start=False)"
            ]
          },
          "metadata": {
            "tags": []
          },
          "execution_count": 15
        }
      ]
    },
    {
      "cell_type": "code",
      "metadata": {
        "id": "a8dI0jAL-CBe",
        "colab": {
          "base_uri": "https://localhost:8080/"
        },
        "outputId": "307c2969-28a3-484f-e585-a918587b1822"
      },
      "source": [
        "print(classification_report(y_test, randomf.predict(X_test)))"
      ],
      "execution_count": 16,
      "outputs": [
        {
          "output_type": "stream",
          "text": [
            "              precision    recall  f1-score   support\n",
            "\n",
            "           0       0.78      0.68      0.72        31\n",
            "           1       0.87      0.87      0.87        45\n",
            "           2       0.78      0.82      0.80        68\n",
            "\n",
            "    accuracy                           0.81       144\n",
            "   macro avg       0.81      0.79      0.80       144\n",
            "weighted avg       0.81      0.81      0.80       144\n",
            "\n"
          ],
          "name": "stdout"
        }
      ]
    },
    {
      "cell_type": "markdown",
      "metadata": {
        "id": "EZeKsz5AFUo2"
      },
      "source": [
        "#### Explorando árvores da floresta"
      ]
    },
    {
      "cell_type": "code",
      "metadata": {
        "id": "74FQo02_5SOn",
        "colab": {
          "base_uri": "https://localhost:8080/"
        },
        "outputId": "8419422e-6570-482c-ae7c-5c99401f2236"
      },
      "source": [
        "print(f'Número total de árvores geradas: {len(randomf.estimators_)}')\n",
        "for tree in randomf.estimators_:\n",
        "    print(\"\\nNumero de nós: {}\".format(tree.tree_.node_count))\n",
        "    print(\"Profundidade da árvore: {}\".format(tree.tree_.max_depth))\n",
        "    print(\"Features importantes: {}\".format(tree.feature_importances_))\n",
        "    print(\"\\nObjeto: {}\".format(tree))"
      ],
      "execution_count": 17,
      "outputs": [
        {
          "output_type": "stream",
          "text": [
            "Número total de árvores geradas: 100\n",
            "\n",
            "Numero de nós: 167\n",
            "Profundidade da árvore: 13\n",
            "Features importantes: [0.01357576 0.01823389 0.12828917 0.00226263 0.03935266 0.00528274\n",
            " 0.0299558  0.01916257 0.02634581 0.21964509 0.13038868 0.08298179\n",
            " 0.08732524 0.04969152 0.04295619 0.10455045]\n",
            "\n",
            "Objeto: DecisionTreeClassifier(ccp_alpha=0.0, class_weight=None, criterion='gini',\n",
            "                       max_depth=None, max_features='auto', max_leaf_nodes=None,\n",
            "                       min_impurity_decrease=0.0, min_impurity_split=None,\n",
            "                       min_samples_leaf=1, min_samples_split=2,\n",
            "                       min_weight_fraction_leaf=0.0, presort='deprecated',\n",
            "                       random_state=1608637542, splitter='best')\n",
            "\n",
            "Numero de nós: 145\n",
            "Profundidade da árvore: 14\n",
            "Features importantes: [0.03186919 0.03310262 0.01141583 0.00477019 0.01988081 0.03413417\n",
            " 0.04478122 0.01190338 0.02845579 0.03441715 0.34523753 0.13909319\n",
            " 0.13276113 0.01510238 0.00618357 0.10689184]\n",
            "\n",
            "Objeto: DecisionTreeClassifier(ccp_alpha=0.0, class_weight=None, criterion='gini',\n",
            "                       max_depth=None, max_features='auto', max_leaf_nodes=None,\n",
            "                       min_impurity_decrease=0.0, min_impurity_split=None,\n",
            "                       min_samples_leaf=1, min_samples_split=2,\n",
            "                       min_weight_fraction_leaf=0.0, presort='deprecated',\n",
            "                       random_state=1273642419, splitter='best')\n",
            "\n",
            "Numero de nós: 155\n",
            "Profundidade da árvore: 10\n",
            "Features importantes: [0.02380298 0.03303502 0.03092367 0.00703773 0.0187792  0.01231603\n",
            " 0.06584159 0.02494693 0.02806873 0.09086348 0.1908591  0.08029713\n",
            " 0.15289067 0.06988351 0.02755907 0.14289517]\n",
            "\n",
            "Objeto: DecisionTreeClassifier(ccp_alpha=0.0, class_weight=None, criterion='gini',\n",
            "                       max_depth=None, max_features='auto', max_leaf_nodes=None,\n",
            "                       min_impurity_decrease=0.0, min_impurity_split=None,\n",
            "                       min_samples_leaf=1, min_samples_split=2,\n",
            "                       min_weight_fraction_leaf=0.0, presort='deprecated',\n",
            "                       random_state=1935803228, splitter='best')\n",
            "\n",
            "Numero de nós: 147\n",
            "Profundidade da árvore: 15\n",
            "Features importantes: [0.05683194 0.04493022 0.0138173  0.03452392 0.02547176 0.0125262\n",
            " 0.01175061 0.01182147 0.07654645 0.09763819 0.31935347 0.10979826\n",
            " 0.0624687  0.06749543 0.0321323  0.02289378]\n",
            "\n",
            "Objeto: DecisionTreeClassifier(ccp_alpha=0.0, class_weight=None, criterion='gini',\n",
            "                       max_depth=None, max_features='auto', max_leaf_nodes=None,\n",
            "                       min_impurity_decrease=0.0, min_impurity_split=None,\n",
            "                       min_samples_leaf=1, min_samples_split=2,\n",
            "                       min_weight_fraction_leaf=0.0, presort='deprecated',\n",
            "                       random_state=787846414, splitter='best')\n",
            "\n",
            "Numero de nós: 139\n",
            "Profundidade da árvore: 13\n",
            "Features importantes: [0.01934073 0.00778999 0.01290357 0.02769967 0.0265726  0.03192631\n",
            " 0.04582148 0.         0.02380714 0.1182355  0.20012972 0.14218255\n",
            " 0.0502112  0.04219412 0.00802889 0.24315652]\n",
            "\n",
            "Objeto: DecisionTreeClassifier(ccp_alpha=0.0, class_weight=None, criterion='gini',\n",
            "                       max_depth=None, max_features='auto', max_leaf_nodes=None,\n",
            "                       min_impurity_decrease=0.0, min_impurity_split=None,\n",
            "                       min_samples_leaf=1, min_samples_split=2,\n",
            "                       min_weight_fraction_leaf=0.0, presort='deprecated',\n",
            "                       random_state=996406378, splitter='best')\n",
            "\n",
            "Numero de nós: 141\n",
            "Profundidade da árvore: 10\n",
            "Features importantes: [2.00689871e-04 8.61712135e-03 4.17821841e-02 6.77328316e-03\n",
            " 6.56620474e-02 1.03288879e-02 2.59399213e-02 1.17403575e-02\n",
            " 2.16745061e-02 3.34967503e-02 1.98638098e-01 1.48837996e-01\n",
            " 1.24637037e-01 1.72603099e-02 5.29776378e-02 2.31433172e-01]\n",
            "\n",
            "Objeto: DecisionTreeClassifier(ccp_alpha=0.0, class_weight=None, criterion='gini',\n",
            "                       max_depth=None, max_features='auto', max_leaf_nodes=None,\n",
            "                       min_impurity_decrease=0.0, min_impurity_split=None,\n",
            "                       min_samples_leaf=1, min_samples_split=2,\n",
            "                       min_weight_fraction_leaf=0.0, presort='deprecated',\n",
            "                       random_state=1201263687, splitter='best')\n",
            "\n",
            "Numero de nós: 143\n",
            "Profundidade da árvore: 13\n",
            "Features importantes: [0.04368643 0.0330848  0.04603982 0.00030445 0.01823385 0.02748327\n",
            " 0.05288604 0.01965429 0.03126448 0.05666753 0.24463411 0.18438618\n",
            " 0.07352974 0.03559856 0.         0.13254645]\n",
            "\n",
            "Objeto: DecisionTreeClassifier(ccp_alpha=0.0, class_weight=None, criterion='gini',\n",
            "                       max_depth=None, max_features='auto', max_leaf_nodes=None,\n",
            "                       min_impurity_decrease=0.0, min_impurity_split=None,\n",
            "                       min_samples_leaf=1, min_samples_split=2,\n",
            "                       min_weight_fraction_leaf=0.0, presort='deprecated',\n",
            "                       random_state=423734972, splitter='best')\n",
            "\n",
            "Numero de nós: 141\n",
            "Profundidade da árvore: 11\n",
            "Features importantes: [0.03397136 0.09989759 0.00982194 0.00957035 0.0261909  0.01060111\n",
            " 0.01422261 0.00368734 0.01396009 0.17031528 0.27420702 0.05555739\n",
            " 0.11181774 0.04881566 0.02634077 0.09102282]\n",
            "\n",
            "Objeto: DecisionTreeClassifier(ccp_alpha=0.0, class_weight=None, criterion='gini',\n",
            "                       max_depth=None, max_features='auto', max_leaf_nodes=None,\n",
            "                       min_impurity_decrease=0.0, min_impurity_split=None,\n",
            "                       min_samples_leaf=1, min_samples_split=2,\n",
            "                       min_weight_fraction_leaf=0.0, presort='deprecated',\n",
            "                       random_state=415968276, splitter='best')\n",
            "\n",
            "Numero de nós: 151\n",
            "Profundidade da árvore: 12\n",
            "Features importantes: [0.01573176 0.04327098 0.02939689 0.03534357 0.00138184 0.01489364\n",
            " 0.01711628 0.04062183 0.06631273 0.17733234 0.05880514 0.11016128\n",
            " 0.07110281 0.03253688 0.09724501 0.188747  ]\n",
            "\n",
            "Objeto: DecisionTreeClassifier(ccp_alpha=0.0, class_weight=None, criterion='gini',\n",
            "                       max_depth=None, max_features='auto', max_leaf_nodes=None,\n",
            "                       min_impurity_decrease=0.0, min_impurity_split=None,\n",
            "                       min_samples_leaf=1, min_samples_split=2,\n",
            "                       min_weight_fraction_leaf=0.0, presort='deprecated',\n",
            "                       random_state=670094950, splitter='best')\n",
            "\n",
            "Numero de nós: 149\n",
            "Profundidade da árvore: 11\n",
            "Features importantes: [0.04238824 0.004989   0.03498468 0.01452639 0.06415698 0.01711363\n",
            " 0.06108128 0.03627924 0.05328469 0.28457015 0.07071268 0.06064245\n",
            " 0.1476269  0.06972534 0.01493363 0.02298471]\n",
            "\n",
            "Objeto: DecisionTreeClassifier(ccp_alpha=0.0, class_weight=None, criterion='gini',\n",
            "                       max_depth=None, max_features='auto', max_leaf_nodes=None,\n",
            "                       min_impurity_decrease=0.0, min_impurity_split=None,\n",
            "                       min_samples_leaf=1, min_samples_split=2,\n",
            "                       min_weight_fraction_leaf=0.0, presort='deprecated',\n",
            "                       random_state=1914837113, splitter='best')\n",
            "\n",
            "Numero de nós: 147\n",
            "Profundidade da árvore: 12\n",
            "Features importantes: [0.06188087 0.02017674 0.04292596 0.0061726  0.03586051 0.\n",
            " 0.03660231 0.01340416 0.06788178 0.15238932 0.11570167 0.0977777\n",
            " 0.06226784 0.06135308 0.02109599 0.20450946]\n",
            "\n",
            "Objeto: DecisionTreeClassifier(ccp_alpha=0.0, class_weight=None, criterion='gini',\n",
            "                       max_depth=None, max_features='auto', max_leaf_nodes=None,\n",
            "                       min_impurity_decrease=0.0, min_impurity_split=None,\n",
            "                       min_samples_leaf=1, min_samples_split=2,\n",
            "                       min_weight_fraction_leaf=0.0, presort='deprecated',\n",
            "                       random_state=669991378, splitter='best')\n",
            "\n",
            "Numero de nós: 147\n",
            "Profundidade da árvore: 12\n",
            "Features importantes: [0.01422048 0.02778867 0.04190789 0.03249325 0.06193081 0.01819382\n",
            " 0.06912235 0.00912671 0.0469479  0.18625642 0.15126032 0.08069537\n",
            " 0.15472086 0.01186908 0.01414087 0.07932518]\n",
            "\n",
            "Objeto: DecisionTreeClassifier(ccp_alpha=0.0, class_weight=None, criterion='gini',\n",
            "                       max_depth=None, max_features='auto', max_leaf_nodes=None,\n",
            "                       min_impurity_decrease=0.0, min_impurity_split=None,\n",
            "                       min_samples_leaf=1, min_samples_split=2,\n",
            "                       min_weight_fraction_leaf=0.0, presort='deprecated',\n",
            "                       random_state=429389014, splitter='best')\n",
            "\n",
            "Numero de nós: 137\n",
            "Profundidade da árvore: 13\n",
            "Features importantes: [0.00455519 0.03188634 0.03551521 0.02522875 0.0301934  0.01908842\n",
            " 0.05097957 0.00281988 0.03281448 0.11386662 0.28400841 0.03182934\n",
            " 0.113999   0.08417561 0.02570374 0.11333605]\n",
            "\n",
            "Objeto: DecisionTreeClassifier(ccp_alpha=0.0, class_weight=None, criterion='gini',\n",
            "                       max_depth=None, max_features='auto', max_leaf_nodes=None,\n",
            "                       min_impurity_decrease=0.0, min_impurity_split=None,\n",
            "                       min_samples_leaf=1, min_samples_split=2,\n",
            "                       min_weight_fraction_leaf=0.0, presort='deprecated',\n",
            "                       random_state=249467210, splitter='best')\n",
            "\n",
            "Numero de nós: 163\n",
            "Profundidade da árvore: 12\n",
            "Features importantes: [0.02571949 0.04721628 0.00965346 0.03149385 0.0183633  0.01211441\n",
            " 0.02607163 0.00978154 0.10199951 0.10400603 0.22624806 0.10965253\n",
            " 0.13031978 0.010309   0.02067035 0.11638077]\n",
            "\n",
            "Objeto: DecisionTreeClassifier(ccp_alpha=0.0, class_weight=None, criterion='gini',\n",
            "                       max_depth=None, max_features='auto', max_leaf_nodes=None,\n",
            "                       min_impurity_decrease=0.0, min_impurity_split=None,\n",
            "                       min_samples_leaf=1, min_samples_split=2,\n",
            "                       min_weight_fraction_leaf=0.0, presort='deprecated',\n",
            "                       random_state=1972458954, splitter='best')\n",
            "\n",
            "Numero de nós: 167\n",
            "Profundidade da árvore: 13\n",
            "Features importantes: [0.02956885 0.01594221 0.03475743 0.0207791  0.05263809 0.00579867\n",
            " 0.06422469 0.00834575 0.05566463 0.28637603 0.15679953 0.09626846\n",
            " 0.08892769 0.01426365 0.00820753 0.0614377 ]\n",
            "\n",
            "Objeto: DecisionTreeClassifier(ccp_alpha=0.0, class_weight=None, criterion='gini',\n",
            "                       max_depth=None, max_features='auto', max_leaf_nodes=None,\n",
            "                       min_impurity_decrease=0.0, min_impurity_split=None,\n",
            "                       min_samples_leaf=1, min_samples_split=2,\n",
            "                       min_weight_fraction_leaf=0.0, presort='deprecated',\n",
            "                       random_state=1572714583, splitter='best')\n",
            "\n",
            "Numero de nós: 127\n",
            "Profundidade da árvore: 11\n",
            "Features importantes: [0.00153257 0.04670716 0.04960263 0.01203256 0.00623873 0.02626959\n",
            " 0.0378279  0.01586207 0.04325869 0.17007231 0.32439587 0.06241323\n",
            " 0.12440083 0.02661515 0.01936607 0.03340464]\n",
            "\n",
            "Objeto: DecisionTreeClassifier(ccp_alpha=0.0, class_weight=None, criterion='gini',\n",
            "                       max_depth=None, max_features='auto', max_leaf_nodes=None,\n",
            "                       min_impurity_decrease=0.0, min_impurity_split=None,\n",
            "                       min_samples_leaf=1, min_samples_split=2,\n",
            "                       min_weight_fraction_leaf=0.0, presort='deprecated',\n",
            "                       random_state=1433267572, splitter='best')\n",
            "\n",
            "Numero de nós: 145\n",
            "Profundidade da árvore: 13\n",
            "Features importantes: [0.00293497 0.04586168 0.03482567 0.01043162 0.02460878 0.01964987\n",
            " 0.04783138 0.00484862 0.02381494 0.10370911 0.20033458 0.07527703\n",
            " 0.1457881  0.04786249 0.02450964 0.18771152]\n",
            "\n",
            "Objeto: DecisionTreeClassifier(ccp_alpha=0.0, class_weight=None, criterion='gini',\n",
            "                       max_depth=None, max_features='auto', max_leaf_nodes=None,\n",
            "                       min_impurity_decrease=0.0, min_impurity_split=None,\n",
            "                       min_samples_leaf=1, min_samples_split=2,\n",
            "                       min_weight_fraction_leaf=0.0, presort='deprecated',\n",
            "                       random_state=434285667, splitter='best')\n",
            "\n",
            "Numero de nós: 133\n",
            "Profundidade da árvore: 13\n",
            "Features importantes: [0.         0.04997963 0.01493441 0.01226054 0.03951806 0.0069555\n",
            " 0.01493017 0.02349206 0.04016406 0.24173189 0.15405379 0.111272\n",
            " 0.09374281 0.05774934 0.04622221 0.09299355]\n",
            "\n",
            "Objeto: DecisionTreeClassifier(ccp_alpha=0.0, class_weight=None, criterion='gini',\n",
            "                       max_depth=None, max_features='auto', max_leaf_nodes=None,\n",
            "                       min_impurity_decrease=0.0, min_impurity_split=None,\n",
            "                       min_samples_leaf=1, min_samples_split=2,\n",
            "                       min_weight_fraction_leaf=0.0, presort='deprecated',\n",
            "                       random_state=613608295, splitter='best')\n",
            "\n",
            "Numero de nós: 131\n",
            "Profundidade da árvore: 11\n",
            "Features importantes: [0.02385882 0.05818268 0.05565897 0.00895881 0.06670953 0.01194507\n",
            " 0.02893243 0.00815794 0.00348398 0.06465228 0.18098962 0.12386333\n",
            " 0.08365428 0.05671858 0.01858885 0.20564482]\n",
            "\n",
            "Objeto: DecisionTreeClassifier(ccp_alpha=0.0, class_weight=None, criterion='gini',\n",
            "                       max_depth=None, max_features='auto', max_leaf_nodes=None,\n",
            "                       min_impurity_decrease=0.0, min_impurity_split=None,\n",
            "                       min_samples_leaf=1, min_samples_split=2,\n",
            "                       min_weight_fraction_leaf=0.0, presort='deprecated',\n",
            "                       random_state=893664919, splitter='best')\n",
            "\n",
            "Numero de nós: 165\n",
            "Profundidade da árvore: 17\n",
            "Features importantes: [0.01965803 0.04781948 0.01606572 0.01516868 0.04768128 0.03485511\n",
            " 0.08839715 0.01160086 0.01841413 0.14436015 0.18190075 0.09808491\n",
            " 0.12207851 0.01011245 0.04444718 0.09935559]\n",
            "\n",
            "Objeto: DecisionTreeClassifier(ccp_alpha=0.0, class_weight=None, criterion='gini',\n",
            "                       max_depth=None, max_features='auto', max_leaf_nodes=None,\n",
            "                       min_impurity_decrease=0.0, min_impurity_split=None,\n",
            "                       min_samples_leaf=1, min_samples_split=2,\n",
            "                       min_weight_fraction_leaf=0.0, presort='deprecated',\n",
            "                       random_state=648061058, splitter='best')\n",
            "\n",
            "Numero de nós: 135\n",
            "Profundidade da árvore: 13\n",
            "Features importantes: [0.00604665 0.02546023 0.01411682 0.00465981 0.02128437 0.01941216\n",
            " 0.05975054 0.01405338 0.03392034 0.19239443 0.09429629 0.13084773\n",
            " 0.07584085 0.09196279 0.02887537 0.18707823]\n",
            "\n",
            "Objeto: DecisionTreeClassifier(ccp_alpha=0.0, class_weight=None, criterion='gini',\n",
            "                       max_depth=None, max_features='auto', max_leaf_nodes=None,\n",
            "                       min_impurity_decrease=0.0, min_impurity_split=None,\n",
            "                       min_samples_leaf=1, min_samples_split=2,\n",
            "                       min_weight_fraction_leaf=0.0, presort='deprecated',\n",
            "                       random_state=88409749, splitter='best')\n",
            "\n",
            "Numero de nós: 145\n",
            "Profundidade da árvore: 11\n",
            "Features importantes: [0.01353783 0.08235936 0.03769512 0.01289317 0.04485015 0.01758307\n",
            " 0.06885149 0.00072296 0.         0.33716446 0.09649605 0.06132661\n",
            " 0.03838527 0.05914615 0.00601681 0.1229715 ]\n",
            "\n",
            "Objeto: DecisionTreeClassifier(ccp_alpha=0.0, class_weight=None, criterion='gini',\n",
            "                       max_depth=None, max_features='auto', max_leaf_nodes=None,\n",
            "                       min_impurity_decrease=0.0, min_impurity_split=None,\n",
            "                       min_samples_leaf=1, min_samples_split=2,\n",
            "                       min_weight_fraction_leaf=0.0, presort='deprecated',\n",
            "                       random_state=242285876, splitter='best')\n",
            "\n",
            "Numero de nós: 151\n",
            "Profundidade da árvore: 14\n",
            "Features importantes: [0.01894726 0.04034125 0.03762016 0.02165849 0.03942503 0.030923\n",
            " 0.04340418 0.00108431 0.04879874 0.11500797 0.32599797 0.0438108\n",
            " 0.09177859 0.03197719 0.0263051  0.08291996]\n",
            "\n",
            "Objeto: DecisionTreeClassifier(ccp_alpha=0.0, class_weight=None, criterion='gini',\n",
            "                       max_depth=None, max_features='auto', max_leaf_nodes=None,\n",
            "                       min_impurity_decrease=0.0, min_impurity_split=None,\n",
            "                       min_samples_leaf=1, min_samples_split=2,\n",
            "                       min_weight_fraction_leaf=0.0, presort='deprecated',\n",
            "                       random_state=2018247425, splitter='best')\n",
            "\n",
            "Numero de nós: 169\n",
            "Profundidade da árvore: 13\n",
            "Features importantes: [0.02014871 0.0633871  0.01256962 0.02535792 0.03459231 0.03708929\n",
            " 0.04999004 0.00328682 0.02792833 0.10249207 0.32346063 0.02511208\n",
            " 0.15569478 0.05226432 0.011652   0.05497398]\n",
            "\n",
            "Objeto: DecisionTreeClassifier(ccp_alpha=0.0, class_weight=None, criterion='gini',\n",
            "                       max_depth=None, max_features='auto', max_leaf_nodes=None,\n",
            "                       min_impurity_decrease=0.0, min_impurity_split=None,\n",
            "                       min_samples_leaf=1, min_samples_split=2,\n",
            "                       min_weight_fraction_leaf=0.0, presort='deprecated',\n",
            "                       random_state=953477463, splitter='best')\n",
            "\n",
            "Numero de nós: 151\n",
            "Profundidade da árvore: 12\n",
            "Features importantes: [0.04950203 0.02978592 0.0181531  0.00825957 0.02783264 0.01464901\n",
            " 0.04362913 0.         0.02269947 0.11106644 0.14126728 0.1474338\n",
            " 0.07500425 0.06818831 0.00777537 0.23475367]\n",
            "\n",
            "Objeto: DecisionTreeClassifier(ccp_alpha=0.0, class_weight=None, criterion='gini',\n",
            "                       max_depth=None, max_features='auto', max_leaf_nodes=None,\n",
            "                       min_impurity_decrease=0.0, min_impurity_split=None,\n",
            "                       min_samples_leaf=1, min_samples_split=2,\n",
            "                       min_weight_fraction_leaf=0.0, presort='deprecated',\n",
            "                       random_state=1427830251, splitter='best')\n",
            "\n",
            "Numero de nós: 151\n",
            "Profundidade da árvore: 12\n",
            "Features importantes: [0.00856187 0.06270315 0.06705813 0.00278261 0.01968438 0.02048309\n",
            " 0.02096618 0.05155614 0.09987458 0.12453659 0.29102473 0.00888889\n",
            " 0.09370876 0.03069727 0.02212434 0.07534928]\n",
            "\n",
            "Objeto: DecisionTreeClassifier(ccp_alpha=0.0, class_weight=None, criterion='gini',\n",
            "                       max_depth=None, max_features='auto', max_leaf_nodes=None,\n",
            "                       min_impurity_decrease=0.0, min_impurity_split=None,\n",
            "                       min_samples_leaf=1, min_samples_split=2,\n",
            "                       min_weight_fraction_leaf=0.0, presort='deprecated',\n",
            "                       random_state=1883569565, splitter='best')\n",
            "\n",
            "Numero de nós: 137\n",
            "Profundidade da árvore: 12\n",
            "Features importantes: [0.01451039 0.02397526 0.0177809  0.01232763 0.02494937 0.02764952\n",
            " 0.04684109 0.00241933 0.00324018 0.22533137 0.13740073 0.1470207\n",
            " 0.0652029  0.01801812 0.03650909 0.19682343]\n",
            "\n",
            "Objeto: DecisionTreeClassifier(ccp_alpha=0.0, class_weight=None, criterion='gini',\n",
            "                       max_depth=None, max_features='auto', max_leaf_nodes=None,\n",
            "                       min_impurity_decrease=0.0, min_impurity_split=None,\n",
            "                       min_samples_leaf=1, min_samples_split=2,\n",
            "                       min_weight_fraction_leaf=0.0, presort='deprecated',\n",
            "                       random_state=911989541, splitter='best')\n",
            "\n",
            "Numero de nós: 147\n",
            "Profundidade da árvore: 15\n",
            "Features importantes: [0.01754561 0.04663358 0.0166989  0.00771386 0.01683344 0.04658607\n",
            " 0.06308657 0.0160469  0.05734581 0.04444792 0.36583943 0.11082417\n",
            " 0.07444462 0.02790579 0.00902739 0.07901995]\n",
            "\n",
            "Objeto: DecisionTreeClassifier(ccp_alpha=0.0, class_weight=None, criterion='gini',\n",
            "                       max_depth=None, max_features='auto', max_leaf_nodes=None,\n",
            "                       min_impurity_decrease=0.0, min_impurity_split=None,\n",
            "                       min_samples_leaf=1, min_samples_split=2,\n",
            "                       min_weight_fraction_leaf=0.0, presort='deprecated',\n",
            "                       random_state=3344769, splitter='best')\n",
            "\n",
            "Numero de nós: 139\n",
            "Profundidade da árvore: 12\n",
            "Features importantes: [0.01056797 0.04328673 0.03481512 0.01860952 0.05356866 0.01229789\n",
            " 0.03301192 0.00638664 0.05004661 0.1189069  0.25327867 0.05088694\n",
            " 0.10747203 0.04795738 0.03081986 0.12808716]\n",
            "\n",
            "Objeto: DecisionTreeClassifier(ccp_alpha=0.0, class_weight=None, criterion='gini',\n",
            "                       max_depth=None, max_features='auto', max_leaf_nodes=None,\n",
            "                       min_impurity_decrease=0.0, min_impurity_split=None,\n",
            "                       min_samples_leaf=1, min_samples_split=2,\n",
            "                       min_weight_fraction_leaf=0.0, presort='deprecated',\n",
            "                       random_state=780932287, splitter='best')\n",
            "\n",
            "Numero de nós: 143\n",
            "Profundidade da árvore: 13\n",
            "Features importantes: [0.02961945 0.01664833 0.00276961 0.0437464  0.00461602 0.04919357\n",
            " 0.04175693 0.00395891 0.0337346  0.03387278 0.28532099 0.12067121\n",
            " 0.11391416 0.1041797  0.00769336 0.10830397]\n",
            "\n",
            "Objeto: DecisionTreeClassifier(ccp_alpha=0.0, class_weight=None, criterion='gini',\n",
            "                       max_depth=None, max_features='auto', max_leaf_nodes=None,\n",
            "                       min_impurity_decrease=0.0, min_impurity_split=None,\n",
            "                       min_samples_leaf=1, min_samples_split=2,\n",
            "                       min_weight_fraction_leaf=0.0, presort='deprecated',\n",
            "                       random_state=2114032571, splitter='best')\n",
            "\n",
            "Numero de nós: 131\n",
            "Profundidade da árvore: 13\n",
            "Features importantes: [0.04903771 0.04735269 0.04976606 0.02335279 0.04269067 0.02226378\n",
            " 0.02819495 0.         0.03816509 0.07436968 0.22921662 0.05325838\n",
            " 0.02925476 0.03089062 0.01536765 0.26681857]\n",
            "\n",
            "Objeto: DecisionTreeClassifier(ccp_alpha=0.0, class_weight=None, criterion='gini',\n",
            "                       max_depth=None, max_features='auto', max_leaf_nodes=None,\n",
            "                       min_impurity_decrease=0.0, min_impurity_split=None,\n",
            "                       min_samples_leaf=1, min_samples_split=2,\n",
            "                       min_weight_fraction_leaf=0.0, presort='deprecated',\n",
            "                       random_state=787716372, splitter='best')\n",
            "\n",
            "Numero de nós: 145\n",
            "Profundidade da árvore: 14\n",
            "Features importantes: [0.02228736 0.0497879  0.00709752 0.01210778 0.0314892  0.04265878\n",
            " 0.05050195 0.01135104 0.03771177 0.26882326 0.15430547 0.1272462\n",
            " 0.08709518 0.01087337 0.03551386 0.05114935]\n",
            "\n",
            "Objeto: DecisionTreeClassifier(ccp_alpha=0.0, class_weight=None, criterion='gini',\n",
            "                       max_depth=None, max_features='auto', max_leaf_nodes=None,\n",
            "                       min_impurity_decrease=0.0, min_impurity_split=None,\n",
            "                       min_samples_leaf=1, min_samples_split=2,\n",
            "                       min_weight_fraction_leaf=0.0, presort='deprecated',\n",
            "                       random_state=504579232, splitter='best')\n",
            "\n",
            "Numero de nós: 135\n",
            "Profundidade da árvore: 12\n",
            "Features importantes: [0.02521187 0.03413048 0.02492239 0.04233766 0.00865361 0.00911105\n",
            " 0.01880495 0.01554902 0.04344668 0.12008233 0.2653507  0.06713445\n",
            " 0.13389275 0.10927923 0.00118678 0.08090605]\n",
            "\n",
            "Objeto: DecisionTreeClassifier(ccp_alpha=0.0, class_weight=None, criterion='gini',\n",
            "                       max_depth=None, max_features='auto', max_leaf_nodes=None,\n",
            "                       min_impurity_decrease=0.0, min_impurity_split=None,\n",
            "                       min_samples_leaf=1, min_samples_split=2,\n",
            "                       min_weight_fraction_leaf=0.0, presort='deprecated',\n",
            "                       random_state=1306710475, splitter='best')\n",
            "\n",
            "Numero de nós: 143\n",
            "Profundidade da árvore: 12\n",
            "Features importantes: [0.0493657  0.03656562 0.05361751 0.         0.02678498 0.01913876\n",
            " 0.0565098  0.01312372 0.11092082 0.11326954 0.12553936 0.17681192\n",
            " 0.03931479 0.0224853  0.02692546 0.12962673]\n",
            "\n",
            "Objeto: DecisionTreeClassifier(ccp_alpha=0.0, class_weight=None, criterion='gini',\n",
            "                       max_depth=None, max_features='auto', max_leaf_nodes=None,\n",
            "                       min_impurity_decrease=0.0, min_impurity_split=None,\n",
            "                       min_samples_leaf=1, min_samples_split=2,\n",
            "                       min_weight_fraction_leaf=0.0, presort='deprecated',\n",
            "                       random_state=479546681, splitter='best')\n",
            "\n",
            "Numero de nós: 139\n",
            "Profundidade da árvore: 11\n",
            "Features importantes: [0.0092769  0.04191574 0.01722853 0.00463845 0.01850596 0.01814149\n",
            " 0.05092584 0.00695767 0.04980977 0.06811869 0.3079892  0.14753934\n",
            " 0.1256317  0.02336895 0.02663075 0.08332101]\n",
            "\n",
            "Objeto: DecisionTreeClassifier(ccp_alpha=0.0, class_weight=None, criterion='gini',\n",
            "                       max_depth=None, max_features='auto', max_leaf_nodes=None,\n",
            "                       min_impurity_decrease=0.0, min_impurity_split=None,\n",
            "                       min_samples_leaf=1, min_samples_split=2,\n",
            "                       min_weight_fraction_leaf=0.0, presort='deprecated',\n",
            "                       random_state=106328085, splitter='best')\n",
            "\n",
            "Numero de nós: 149\n",
            "Profundidade da árvore: 12\n",
            "Features importantes: [0.01153605 0.04117576 0.01174097 0.01444466 0.05149661 0.02112864\n",
            " 0.02525272 0.01708945 0.02243069 0.07806677 0.177016   0.28942677\n",
            " 0.10061322 0.0302264  0.00574593 0.10260936]\n",
            "\n",
            "Objeto: DecisionTreeClassifier(ccp_alpha=0.0, class_weight=None, criterion='gini',\n",
            "                       max_depth=None, max_features='auto', max_leaf_nodes=None,\n",
            "                       min_impurity_decrease=0.0, min_impurity_split=None,\n",
            "                       min_samples_leaf=1, min_samples_split=2,\n",
            "                       min_weight_fraction_leaf=0.0, presort='deprecated',\n",
            "                       random_state=30349564, splitter='best')\n",
            "\n",
            "Numero de nós: 127\n",
            "Profundidade da árvore: 11\n",
            "Features importantes: [0.03491381 0.07389771 0.01611656 0.         0.02783804 0.02832397\n",
            " 0.08321496 0.00215142 0.03973152 0.15640108 0.13397447 0.19081811\n",
            " 0.03048976 0.02407208 0.01668051 0.14137599]\n",
            "\n",
            "Objeto: DecisionTreeClassifier(ccp_alpha=0.0, class_weight=None, criterion='gini',\n",
            "                       max_depth=None, max_features='auto', max_leaf_nodes=None,\n",
            "                       min_impurity_decrease=0.0, min_impurity_split=None,\n",
            "                       min_samples_leaf=1, min_samples_split=2,\n",
            "                       min_weight_fraction_leaf=0.0, presort='deprecated',\n",
            "                       random_state=1855189739, splitter='best')\n",
            "\n",
            "Numero de nós: 143\n",
            "Profundidade da árvore: 12\n",
            "Features importantes: [0.04572427 0.03555445 0.01457919 0.01206012 0.01467819 0.06248272\n",
            " 0.01169421 0.01993236 0.07741421 0.2356063  0.15713471 0.07436376\n",
            " 0.15310785 0.02379973 0.00697906 0.05488888]\n",
            "\n",
            "Objeto: DecisionTreeClassifier(ccp_alpha=0.0, class_weight=None, criterion='gini',\n",
            "                       max_depth=None, max_features='auto', max_leaf_nodes=None,\n",
            "                       min_impurity_decrease=0.0, min_impurity_split=None,\n",
            "                       min_samples_leaf=1, min_samples_split=2,\n",
            "                       min_weight_fraction_leaf=0.0, presort='deprecated',\n",
            "                       random_state=99052376, splitter='best')\n",
            "\n",
            "Numero de nós: 163\n",
            "Profundidade da árvore: 14\n",
            "Features importantes: [0.00666593 0.02864867 0.07408165 0.00953741 0.06220487 0.02284528\n",
            " 0.02347478 0.02113451 0.02724441 0.25345175 0.18646754 0.11864317\n",
            " 0.06569133 0.01837055 0.0035161  0.07802203]\n",
            "\n",
            "Objeto: DecisionTreeClassifier(ccp_alpha=0.0, class_weight=None, criterion='gini',\n",
            "                       max_depth=None, max_features='auto', max_leaf_nodes=None,\n",
            "                       min_impurity_decrease=0.0, min_impurity_split=None,\n",
            "                       min_samples_leaf=1, min_samples_split=2,\n",
            "                       min_weight_fraction_leaf=0.0, presort='deprecated',\n",
            "                       random_state=1250819632, splitter='best')\n",
            "\n",
            "Numero de nós: 151\n",
            "Profundidade da árvore: 13\n",
            "Features importantes: [0.01694966 0.07899118 0.01917771 0.         0.02930664 0.01730973\n",
            " 0.01828038 0.0015184  0.02768365 0.31998493 0.13851356 0.10157854\n",
            " 0.08257899 0.06794769 0.01700988 0.06316908]\n",
            "\n",
            "Objeto: DecisionTreeClassifier(ccp_alpha=0.0, class_weight=None, criterion='gini',\n",
            "                       max_depth=None, max_features='auto', max_leaf_nodes=None,\n",
            "                       min_impurity_decrease=0.0, min_impurity_split=None,\n",
            "                       min_samples_leaf=1, min_samples_split=2,\n",
            "                       min_weight_fraction_leaf=0.0, presort='deprecated',\n",
            "                       random_state=106406362, splitter='best')\n",
            "\n",
            "Numero de nós: 121\n",
            "Profundidade da árvore: 11\n",
            "Features importantes: [0.07721676 0.02138137 0.         0.01836882 0.00438596 0.0135582\n",
            " 0.03108562 0.         0.04483892 0.06893452 0.16391696 0.22979164\n",
            " 0.0804593  0.03362533 0.02216032 0.19027627]\n",
            "\n",
            "Objeto: DecisionTreeClassifier(ccp_alpha=0.0, class_weight=None, criterion='gini',\n",
            "                       max_depth=None, max_features='auto', max_leaf_nodes=None,\n",
            "                       min_impurity_decrease=0.0, min_impurity_split=None,\n",
            "                       min_samples_leaf=1, min_samples_split=2,\n",
            "                       min_weight_fraction_leaf=0.0, presort='deprecated',\n",
            "                       random_state=480404538, splitter='best')\n",
            "\n",
            "Numero de nós: 169\n",
            "Profundidade da árvore: 14\n",
            "Features importantes: [0.03261312 0.03217518 0.02541767 0.00882112 0.04343958 0.0412641\n",
            " 0.03800495 0.00739294 0.08244807 0.16108884 0.10297146 0.06106354\n",
            " 0.17585036 0.02710746 0.079771   0.08057062]\n",
            "\n",
            "Objeto: DecisionTreeClassifier(ccp_alpha=0.0, class_weight=None, criterion='gini',\n",
            "                       max_depth=None, max_features='auto', max_leaf_nodes=None,\n",
            "                       min_impurity_decrease=0.0, min_impurity_split=None,\n",
            "                       min_samples_leaf=1, min_samples_split=2,\n",
            "                       min_weight_fraction_leaf=0.0, presort='deprecated',\n",
            "                       random_state=1717389822, splitter='best')\n",
            "\n",
            "Numero de nós: 157\n",
            "Profundidade da árvore: 15\n",
            "Features importantes: [0.05559199 0.06104791 0.03940777 0.02928411 0.02795369 0.00665343\n",
            " 0.03692966 0.02721995 0.06982041 0.17755775 0.20532281 0.09542433\n",
            " 0.11816915 0.02258659 0.00246009 0.02457034]\n",
            "\n",
            "Objeto: DecisionTreeClassifier(ccp_alpha=0.0, class_weight=None, criterion='gini',\n",
            "                       max_depth=None, max_features='auto', max_leaf_nodes=None,\n",
            "                       min_impurity_decrease=0.0, min_impurity_split=None,\n",
            "                       min_samples_leaf=1, min_samples_split=2,\n",
            "                       min_weight_fraction_leaf=0.0, presort='deprecated',\n",
            "                       random_state=599121577, splitter='best')\n",
            "\n",
            "Numero de nós: 149\n",
            "Profundidade da árvore: 15\n",
            "Features importantes: [0.02488257 0.04794411 0.05956235 0.01615069 0.03872114 0.01064643\n",
            " 0.03628673 0.03367572 0.01461508 0.16400822 0.1129311  0.08084403\n",
            " 0.14019385 0.03369951 0.00920145 0.17663704]\n",
            "\n",
            "Objeto: DecisionTreeClassifier(ccp_alpha=0.0, class_weight=None, criterion='gini',\n",
            "                       max_depth=None, max_features='auto', max_leaf_nodes=None,\n",
            "                       min_impurity_decrease=0.0, min_impurity_split=None,\n",
            "                       min_samples_leaf=1, min_samples_split=2,\n",
            "                       min_weight_fraction_leaf=0.0, presort='deprecated',\n",
            "                       random_state=200427519, splitter='best')\n",
            "\n",
            "Numero de nós: 149\n",
            "Profundidade da árvore: 13\n",
            "Features importantes: [0.02988631 0.0307533  0.03202404 0.0039236  0.05566387 0.02515307\n",
            " 0.0402588  0.00869731 0.05240214 0.05703929 0.24659286 0.03294733\n",
            " 0.1369426  0.11579125 0.00899761 0.12292663]\n",
            "\n",
            "Objeto: DecisionTreeClassifier(ccp_alpha=0.0, class_weight=None, criterion='gini',\n",
            "                       max_depth=None, max_features='auto', max_leaf_nodes=None,\n",
            "                       min_impurity_decrease=0.0, min_impurity_split=None,\n",
            "                       min_samples_leaf=1, min_samples_split=2,\n",
            "                       min_weight_fraction_leaf=0.0, presort='deprecated',\n",
            "                       random_state=1254751707, splitter='best')\n",
            "\n",
            "Numero de nós: 145\n",
            "Profundidade da árvore: 14\n",
            "Features importantes: [0.00043901 0.06068759 0.02902361 0.00981099 0.03412886 0.00599641\n",
            " 0.06436163 0.01775081 0.06736262 0.16029885 0.14374059 0.07482766\n",
            " 0.09918451 0.02402906 0.11912061 0.08923718]\n",
            "\n",
            "Objeto: DecisionTreeClassifier(ccp_alpha=0.0, class_weight=None, criterion='gini',\n",
            "                       max_depth=None, max_features='auto', max_leaf_nodes=None,\n",
            "                       min_impurity_decrease=0.0, min_impurity_split=None,\n",
            "                       min_samples_leaf=1, min_samples_split=2,\n",
            "                       min_weight_fraction_leaf=0.0, presort='deprecated',\n",
            "                       random_state=2034764475, splitter='best')\n",
            "\n",
            "Numero de nós: 147\n",
            "Profundidade da árvore: 11\n",
            "Features importantes: [0.06584334 0.01859693 0.0224213  0.01990314 0.05450986 0.03663998\n",
            " 0.02237064 0.01239795 0.0376509  0.27905693 0.1617913  0.1290528\n",
            " 0.06146463 0.03106117 0.0145287  0.03271042]\n",
            "\n",
            "Objeto: DecisionTreeClassifier(ccp_alpha=0.0, class_weight=None, criterion='gini',\n",
            "                       max_depth=None, max_features='auto', max_leaf_nodes=None,\n",
            "                       min_impurity_decrease=0.0, min_impurity_split=None,\n",
            "                       min_samples_leaf=1, min_samples_split=2,\n",
            "                       min_weight_fraction_leaf=0.0, presort='deprecated',\n",
            "                       random_state=1573512143, splitter='best')\n",
            "\n",
            "Numero de nós: 149\n",
            "Profundidade da árvore: 13\n",
            "Features importantes: [0.01627597 0.03738115 0.04423029 0.01095206 0.04110411 0.00743175\n",
            " 0.04200462 0.01943773 0.05244007 0.18541307 0.1300443  0.24133264\n",
            " 0.05815047 0.01718865 0.03136612 0.065247  ]\n",
            "\n",
            "Objeto: DecisionTreeClassifier(ccp_alpha=0.0, class_weight=None, criterion='gini',\n",
            "                       max_depth=None, max_features='auto', max_leaf_nodes=None,\n",
            "                       min_impurity_decrease=0.0, min_impurity_split=None,\n",
            "                       min_samples_leaf=1, min_samples_split=2,\n",
            "                       min_weight_fraction_leaf=0.0, presort='deprecated',\n",
            "                       random_state=999745294, splitter='best')\n",
            "\n",
            "Numero de nós: 143\n",
            "Profundidade da árvore: 12\n",
            "Features importantes: [0.03659864 0.06466881 0.04240295 0.         0.03839024 0.01023536\n",
            " 0.05728066 0.01054134 0.0284726  0.07817713 0.09714529 0.14234179\n",
            " 0.16486553 0.02398155 0.03436621 0.17053188]\n",
            "\n",
            "Objeto: DecisionTreeClassifier(ccp_alpha=0.0, class_weight=None, criterion='gini',\n",
            "                       max_depth=None, max_features='auto', max_leaf_nodes=None,\n",
            "                       min_impurity_decrease=0.0, min_impurity_split=None,\n",
            "                       min_samples_leaf=1, min_samples_split=2,\n",
            "                       min_weight_fraction_leaf=0.0, presort='deprecated',\n",
            "                       random_state=1958805693, splitter='best')\n",
            "\n",
            "Numero de nós: 139\n",
            "Profundidade da árvore: 16\n",
            "Features importantes: [0.03483493 0.04473846 0.0538419  0.         0.04306979 0.03088379\n",
            " 0.08649659 0.         0.03280285 0.29159943 0.12398144 0.07094695\n",
            " 0.04708196 0.00160526 0.04209129 0.09602537]\n",
            "\n",
            "Objeto: DecisionTreeClassifier(ccp_alpha=0.0, class_weight=None, criterion='gini',\n",
            "                       max_depth=None, max_features='auto', max_leaf_nodes=None,\n",
            "                       min_impurity_decrease=0.0, min_impurity_split=None,\n",
            "                       min_samples_leaf=1, min_samples_split=2,\n",
            "                       min_weight_fraction_leaf=0.0, presort='deprecated',\n",
            "                       random_state=389151677, splitter='best')\n",
            "\n",
            "Numero de nós: 121\n",
            "Profundidade da árvore: 11\n",
            "Features importantes: [0.01792813 0.02611833 0.03030006 0.         0.03135836 0.01445527\n",
            " 0.08082841 0.         0.03111812 0.04400083 0.35655057 0.04770662\n",
            " 0.09564451 0.07103546 0.00429845 0.14865689]\n",
            "\n",
            "Objeto: DecisionTreeClassifier(ccp_alpha=0.0, class_weight=None, criterion='gini',\n",
            "                       max_depth=None, max_features='auto', max_leaf_nodes=None,\n",
            "                       min_impurity_decrease=0.0, min_impurity_split=None,\n",
            "                       min_samples_leaf=1, min_samples_split=2,\n",
            "                       min_weight_fraction_leaf=0.0, presort='deprecated',\n",
            "                       random_state=1224821422, splitter='best')\n",
            "\n",
            "Numero de nós: 157\n",
            "Profundidade da árvore: 13\n",
            "Features importantes: [0.02282026 0.01744962 0.05435119 0.00573289 0.03628913 0.02152953\n",
            " 0.01600516 0.0245056  0.03069129 0.1313673  0.11976703 0.27778884\n",
            " 0.0821903  0.02578712 0.01960448 0.11412027]\n",
            "\n",
            "Objeto: DecisionTreeClassifier(ccp_alpha=0.0, class_weight=None, criterion='gini',\n",
            "                       max_depth=None, max_features='auto', max_leaf_nodes=None,\n",
            "                       min_impurity_decrease=0.0, min_impurity_split=None,\n",
            "                       min_samples_leaf=1, min_samples_split=2,\n",
            "                       min_weight_fraction_leaf=0.0, presort='deprecated',\n",
            "                       random_state=508464061, splitter='best')\n",
            "\n",
            "Numero de nós: 119\n",
            "Profundidade da árvore: 12\n",
            "Features importantes: [0.0484413  0.0446591  0.00288972 0.01525671 0.06055131 0.04271053\n",
            " 0.01572009 0.00995606 0.04602384 0.12361984 0.18695794 0.07181442\n",
            " 0.07078078 0.02631712 0.03624355 0.19805767]\n",
            "\n",
            "Objeto: DecisionTreeClassifier(ccp_alpha=0.0, class_weight=None, criterion='gini',\n",
            "                       max_depth=None, max_features='auto', max_leaf_nodes=None,\n",
            "                       min_impurity_decrease=0.0, min_impurity_split=None,\n",
            "                       min_samples_leaf=1, min_samples_split=2,\n",
            "                       min_weight_fraction_leaf=0.0, presort='deprecated',\n",
            "                       random_state=857592370, splitter='best')\n",
            "\n",
            "Numero de nós: 129\n",
            "Profundidade da árvore: 15\n",
            "Features importantes: [0.01012692 0.06522432 0.03963254 0.02213617 0.00760284 0.00477174\n",
            " 0.03421271 0.00189308 0.01255341 0.1590817  0.17602353 0.03623652\n",
            " 0.09212372 0.04163364 0.04331838 0.25342875]\n",
            "\n",
            "Objeto: DecisionTreeClassifier(ccp_alpha=0.0, class_weight=None, criterion='gini',\n",
            "                       max_depth=None, max_features='auto', max_leaf_nodes=None,\n",
            "                       min_impurity_decrease=0.0, min_impurity_split=None,\n",
            "                       min_samples_leaf=1, min_samples_split=2,\n",
            "                       min_weight_fraction_leaf=0.0, presort='deprecated',\n",
            "                       random_state=1642661739, splitter='best')\n",
            "\n",
            "Numero de nós: 133\n",
            "Profundidade da árvore: 11\n",
            "Features importantes: [0.02896445 0.0162037  0.02958071 0.00154321 0.04573005 0.0087146\n",
            " 0.05289703 0.01972503 0.09062132 0.06302944 0.30370866 0.08116015\n",
            " 0.10063209 0.0154321  0.01637701 0.12568046]\n",
            "\n",
            "Objeto: DecisionTreeClassifier(ccp_alpha=0.0, class_weight=None, criterion='gini',\n",
            "                       max_depth=None, max_features='auto', max_leaf_nodes=None,\n",
            "                       min_impurity_decrease=0.0, min_impurity_split=None,\n",
            "                       min_samples_leaf=1, min_samples_split=2,\n",
            "                       min_weight_fraction_leaf=0.0, presort='deprecated',\n",
            "                       random_state=61136438, splitter='best')\n",
            "\n",
            "Numero de nós: 147\n",
            "Profundidade da árvore: 14\n",
            "Features importantes: [0.07707583 0.01885072 0.02043476 0.02135556 0.0236654  0.05283659\n",
            " 0.04582648 0.         0.04182536 0.09465404 0.33722057 0.12286004\n",
            " 0.07973376 0.00733572 0.01445671 0.04186848]\n",
            "\n",
            "Objeto: DecisionTreeClassifier(ccp_alpha=0.0, class_weight=None, criterion='gini',\n",
            "                       max_depth=None, max_features='auto', max_leaf_nodes=None,\n",
            "                       min_impurity_decrease=0.0, min_impurity_split=None,\n",
            "                       min_samples_leaf=1, min_samples_split=2,\n",
            "                       min_weight_fraction_leaf=0.0, presort='deprecated',\n",
            "                       random_state=2075460851, splitter='best')\n",
            "\n",
            "Numero de nós: 145\n",
            "Profundidade da árvore: 10\n",
            "Features importantes: [0.05107528 0.01701009 0.04422087 0.02132215 0.02601143 0.0472454\n",
            " 0.02064712 0.01045495 0.12420117 0.27422189 0.12209299 0.02330583\n",
            " 0.10107748 0.03802319 0.02348176 0.05560838]\n",
            "\n",
            "Objeto: DecisionTreeClassifier(ccp_alpha=0.0, class_weight=None, criterion='gini',\n",
            "                       max_depth=None, max_features='auto', max_leaf_nodes=None,\n",
            "                       min_impurity_decrease=0.0, min_impurity_split=None,\n",
            "                       min_samples_leaf=1, min_samples_split=2,\n",
            "                       min_weight_fraction_leaf=0.0, presort='deprecated',\n",
            "                       random_state=396917567, splitter='best')\n",
            "\n",
            "Numero de nós: 127\n",
            "Profundidade da árvore: 12\n",
            "Features importantes: [0.05106478 0.02000676 0.04146746 0.00161628 0.04826346 0.04041206\n",
            " 0.08361812 0.02038049 0.03915482 0.14220429 0.0908025  0.08059246\n",
            " 0.07300467 0.05957536 0.         0.20783648]\n",
            "\n",
            "Objeto: DecisionTreeClassifier(ccp_alpha=0.0, class_weight=None, criterion='gini',\n",
            "                       max_depth=None, max_features='auto', max_leaf_nodes=None,\n",
            "                       min_impurity_decrease=0.0, min_impurity_split=None,\n",
            "                       min_samples_leaf=1, min_samples_split=2,\n",
            "                       min_weight_fraction_leaf=0.0, presort='deprecated',\n",
            "                       random_state=2004731384, splitter='best')\n",
            "\n",
            "Numero de nós: 137\n",
            "Profundidade da árvore: 10\n",
            "Features importantes: [0.1148694  0.01340355 0.03849899 0.01225796 0.06017079 0.\n",
            " 0.01892064 0.01667577 0.03861649 0.30628693 0.13285764 0.06932945\n",
            " 0.05267122 0.02496494 0.03531349 0.06516273]\n",
            "\n",
            "Objeto: DecisionTreeClassifier(ccp_alpha=0.0, class_weight=None, criterion='gini',\n",
            "                       max_depth=None, max_features='auto', max_leaf_nodes=None,\n",
            "                       min_impurity_decrease=0.0, min_impurity_split=None,\n",
            "                       min_samples_leaf=1, min_samples_split=2,\n",
            "                       min_weight_fraction_leaf=0.0, presort='deprecated',\n",
            "                       random_state=199502978, splitter='best')\n",
            "\n",
            "Numero de nós: 151\n",
            "Profundidade da árvore: 12\n",
            "Features importantes: [0.05885191 0.04542095 0.02634168 0.01583461 0.04662928 0.00172645\n",
            " 0.0133896  0.0164927  0.03412695 0.1667105  0.2803946  0.05709899\n",
            " 0.08939477 0.07058619 0.         0.07700082]\n",
            "\n",
            "Objeto: DecisionTreeClassifier(ccp_alpha=0.0, class_weight=None, criterion='gini',\n",
            "                       max_depth=None, max_features='auto', max_leaf_nodes=None,\n",
            "                       min_impurity_decrease=0.0, min_impurity_split=None,\n",
            "                       min_samples_leaf=1, min_samples_split=2,\n",
            "                       min_weight_fraction_leaf=0.0, presort='deprecated',\n",
            "                       random_state=1545932260, splitter='best')\n",
            "\n",
            "Numero de nós: 131\n",
            "Profundidade da árvore: 13\n",
            "Features importantes: [0.02604308 0.02377211 0.025228   0.00505486 0.02482445 0.\n",
            " 0.05452265 0.02090564 0.02658011 0.15721989 0.22326647 0.18395769\n",
            " 0.12145593 0.         0.01101238 0.09615674]\n",
            "\n",
            "Objeto: DecisionTreeClassifier(ccp_alpha=0.0, class_weight=None, criterion='gini',\n",
            "                       max_depth=None, max_features='auto', max_leaf_nodes=None,\n",
            "                       min_impurity_decrease=0.0, min_impurity_split=None,\n",
            "                       min_samples_leaf=1, min_samples_split=2,\n",
            "                       min_weight_fraction_leaf=0.0, presort='deprecated',\n",
            "                       random_state=461901618, splitter='best')\n",
            "\n",
            "Numero de nós: 135\n",
            "Profundidade da árvore: 13\n",
            "Features importantes: [0.01468252 0.03242865 0.02180167 0.00772764 0.0137452  0.01928008\n",
            " 0.0130501  0.00608845 0.03023928 0.3178335  0.11941053 0.13749325\n",
            " 0.09536746 0.06868377 0.0109592  0.09120871]\n",
            "\n",
            "Objeto: DecisionTreeClassifier(ccp_alpha=0.0, class_weight=None, criterion='gini',\n",
            "                       max_depth=None, max_features='auto', max_leaf_nodes=None,\n",
            "                       min_impurity_decrease=0.0, min_impurity_split=None,\n",
            "                       min_samples_leaf=1, min_samples_split=2,\n",
            "                       min_weight_fraction_leaf=0.0, presort='deprecated',\n",
            "                       random_state=774414982, splitter='best')\n",
            "\n",
            "Numero de nós: 135\n",
            "Profundidade da árvore: 13\n",
            "Features importantes: [0.02903412 0.02082964 0.0552735  0.         0.06645531 0.01578802\n",
            " 0.02182379 0.02197802 0.03822192 0.02660497 0.1492434  0.21082053\n",
            " 0.10027394 0.0209439  0.01925326 0.20345567]\n",
            "\n",
            "Objeto: DecisionTreeClassifier(ccp_alpha=0.0, class_weight=None, criterion='gini',\n",
            "                       max_depth=None, max_features='auto', max_leaf_nodes=None,\n",
            "                       min_impurity_decrease=0.0, min_impurity_split=None,\n",
            "                       min_samples_leaf=1, min_samples_split=2,\n",
            "                       min_weight_fraction_leaf=0.0, presort='deprecated',\n",
            "                       random_state=732395540, splitter='best')\n",
            "\n",
            "Numero de nós: 159\n",
            "Profundidade da árvore: 13\n",
            "Features importantes: [0.01495351 0.03165096 0.01361509 0.0024676  0.0174804  0.00653612\n",
            " 0.11277457 0.01839352 0.07962614 0.14969645 0.24414957 0.13124178\n",
            " 0.03994508 0.00519495 0.01826427 0.11401   ]\n",
            "\n",
            "Objeto: DecisionTreeClassifier(ccp_alpha=0.0, class_weight=None, criterion='gini',\n",
            "                       max_depth=None, max_features='auto', max_leaf_nodes=None,\n",
            "                       min_impurity_decrease=0.0, min_impurity_split=None,\n",
            "                       min_samples_leaf=1, min_samples_split=2,\n",
            "                       min_weight_fraction_leaf=0.0, presort='deprecated',\n",
            "                       random_state=1934879560, splitter='best')\n",
            "\n",
            "Numero de nós: 141\n",
            "Profundidade da árvore: 10\n",
            "Features importantes: [0.05941224 0.12335751 0.0057938  0.         0.01515718 0.01043517\n",
            " 0.02524994 0.00858642 0.01609183 0.19615499 0.21733865 0.10977219\n",
            " 0.04982594 0.09266508 0.02462018 0.04553888]\n",
            "\n",
            "Objeto: DecisionTreeClassifier(ccp_alpha=0.0, class_weight=None, criterion='gini',\n",
            "                       max_depth=None, max_features='auto', max_leaf_nodes=None,\n",
            "                       min_impurity_decrease=0.0, min_impurity_split=None,\n",
            "                       min_samples_leaf=1, min_samples_split=2,\n",
            "                       min_weight_fraction_leaf=0.0, presort='deprecated',\n",
            "                       random_state=279394470, splitter='best')\n",
            "\n",
            "Numero de nós: 143\n",
            "Profundidade da árvore: 10\n",
            "Features importantes: [0.04882084 0.01453825 0.01422332 0.02014592 0.06534164 0.02549798\n",
            " 0.07771483 0.00122636 0.0567929  0.06840888 0.16154637 0.1011212\n",
            " 0.12589349 0.11651145 0.01580406 0.08641252]\n",
            "\n",
            "Objeto: DecisionTreeClassifier(ccp_alpha=0.0, class_weight=None, criterion='gini',\n",
            "                       max_depth=None, max_features='auto', max_leaf_nodes=None,\n",
            "                       min_impurity_decrease=0.0, min_impurity_split=None,\n",
            "                       min_samples_leaf=1, min_samples_split=2,\n",
            "                       min_weight_fraction_leaf=0.0, presort='deprecated',\n",
            "                       random_state=56972561, splitter='best')\n",
            "\n",
            "Numero de nós: 113\n",
            "Profundidade da árvore: 12\n",
            "Features importantes: [0.08165277 0.04596373 0.02393116 0.01240246 0.00608051 0.0119178\n",
            " 0.02503176 0.         0.02015154 0.14871615 0.28435352 0.09376839\n",
            " 0.07076772 0.01168327 0.04849279 0.11508643]\n",
            "\n",
            "Objeto: DecisionTreeClassifier(ccp_alpha=0.0, class_weight=None, criterion='gini',\n",
            "                       max_depth=None, max_features='auto', max_leaf_nodes=None,\n",
            "                       min_impurity_decrease=0.0, min_impurity_split=None,\n",
            "                       min_samples_leaf=1, min_samples_split=2,\n",
            "                       min_weight_fraction_leaf=0.0, presort='deprecated',\n",
            "                       random_state=1927948675, splitter='best')\n",
            "\n",
            "Numero de nós: 135\n",
            "Profundidade da árvore: 10\n",
            "Features importantes: [0.09058621 0.04668448 0.01086061 0.00950303 0.00844829 0.0367349\n",
            " 0.04199798 0.02573761 0.11809074 0.1281012  0.18101329 0.09234918\n",
            " 0.05827361 0.02880182 0.02025182 0.10256523]\n",
            "\n",
            "Objeto: DecisionTreeClassifier(ccp_alpha=0.0, class_weight=None, criterion='gini',\n",
            "                       max_depth=None, max_features='auto', max_leaf_nodes=None,\n",
            "                       min_impurity_decrease=0.0, min_impurity_split=None,\n",
            "                       min_samples_leaf=1, min_samples_split=2,\n",
            "                       min_weight_fraction_leaf=0.0, presort='deprecated',\n",
            "                       random_state=1899242072, splitter='best')\n",
            "\n",
            "Numero de nós: 145\n",
            "Profundidade da árvore: 13\n",
            "Features importantes: [0.02985758 0.05504944 0.02692483 0.00272183 0.05619789 0.00685901\n",
            " 0.04487278 0.03036318 0.01863183 0.19124974 0.10709219 0.07841969\n",
            " 0.08465606 0.02488841 0.02785701 0.21435854]\n",
            "\n",
            "Objeto: DecisionTreeClassifier(ccp_alpha=0.0, class_weight=None, criterion='gini',\n",
            "                       max_depth=None, max_features='auto', max_leaf_nodes=None,\n",
            "                       min_impurity_decrease=0.0, min_impurity_split=None,\n",
            "                       min_samples_leaf=1, min_samples_split=2,\n",
            "                       min_weight_fraction_leaf=0.0, presort='deprecated',\n",
            "                       random_state=1999874363, splitter='best')\n",
            "\n",
            "Numero de nós: 157\n",
            "Profundidade da árvore: 12\n",
            "Features importantes: [0.01395341 0.05576263 0.05834375 0.00644896 0.03315762 0.01664249\n",
            " 0.03961597 0.00430296 0.02423635 0.30075885 0.14080273 0.10977085\n",
            " 0.06799292 0.04217057 0.00256693 0.083473  ]\n",
            "\n",
            "Objeto: DecisionTreeClassifier(ccp_alpha=0.0, class_weight=None, criterion='gini',\n",
            "                       max_depth=None, max_features='auto', max_leaf_nodes=None,\n",
            "                       min_impurity_decrease=0.0, min_impurity_split=None,\n",
            "                       min_samples_leaf=1, min_samples_split=2,\n",
            "                       min_weight_fraction_leaf=0.0, presort='deprecated',\n",
            "                       random_state=271820813, splitter='best')\n",
            "\n",
            "Numero de nós: 177\n",
            "Profundidade da árvore: 15\n",
            "Features importantes: [0.02937987 0.04612108 0.02859048 0.01826058 0.00964493 0.01730546\n",
            " 0.0570385  0.         0.01518086 0.11680907 0.19059725 0.22699302\n",
            " 0.15294644 0.03814117 0.02426201 0.02872928]\n",
            "\n",
            "Objeto: DecisionTreeClassifier(ccp_alpha=0.0, class_weight=None, criterion='gini',\n",
            "                       max_depth=None, max_features='auto', max_leaf_nodes=None,\n",
            "                       min_impurity_decrease=0.0, min_impurity_split=None,\n",
            "                       min_samples_leaf=1, min_samples_split=2,\n",
            "                       min_weight_fraction_leaf=0.0, presort='deprecated',\n",
            "                       random_state=1324556529, splitter='best')\n",
            "\n",
            "Numero de nós: 153\n",
            "Profundidade da árvore: 13\n",
            "Features importantes: [0.05332496 0.04417573 0.03528127 0.01550657 0.05838691 0.02846592\n",
            " 0.03697345 0.02348789 0.01576686 0.04258512 0.3523396  0.07649968\n",
            " 0.10450689 0.04071582 0.00590825 0.06607509]\n",
            "\n",
            "Objeto: DecisionTreeClassifier(ccp_alpha=0.0, class_weight=None, criterion='gini',\n",
            "                       max_depth=None, max_features='auto', max_leaf_nodes=None,\n",
            "                       min_impurity_decrease=0.0, min_impurity_split=None,\n",
            "                       min_samples_leaf=1, min_samples_split=2,\n",
            "                       min_weight_fraction_leaf=0.0, presort='deprecated',\n",
            "                       random_state=1655351289, splitter='best')\n",
            "\n",
            "Numero de nós: 153\n",
            "Profundidade da árvore: 13\n",
            "Features importantes: [0.02132952 0.00809825 0.05078085 0.01864895 0.04086509 0.02398146\n",
            " 0.03473342 0.01992539 0.07399152 0.26349333 0.159953   0.08527859\n",
            " 0.12305568 0.00477218 0.01272583 0.05836693]\n",
            "\n",
            "Objeto: DecisionTreeClassifier(ccp_alpha=0.0, class_weight=None, criterion='gini',\n",
            "                       max_depth=None, max_features='auto', max_leaf_nodes=None,\n",
            "                       min_impurity_decrease=0.0, min_impurity_split=None,\n",
            "                       min_samples_leaf=1, min_samples_split=2,\n",
            "                       min_weight_fraction_leaf=0.0, presort='deprecated',\n",
            "                       random_state=1308306184, splitter='best')\n",
            "\n",
            "Numero de nós: 149\n",
            "Profundidade da árvore: 12\n",
            "Features importantes: [0.01950482 0.01520997 0.05158067 0.01209498 0.01480643 0.02436001\n",
            " 0.03138213 0.00880772 0.02317245 0.08187966 0.14930528 0.12748018\n",
            " 0.09611092 0.08237961 0.03753567 0.2243895 ]\n",
            "\n",
            "Objeto: DecisionTreeClassifier(ccp_alpha=0.0, class_weight=None, criterion='gini',\n",
            "                       max_depth=None, max_features='auto', max_leaf_nodes=None,\n",
            "                       min_impurity_decrease=0.0, min_impurity_split=None,\n",
            "                       min_samples_leaf=1, min_samples_split=2,\n",
            "                       min_weight_fraction_leaf=0.0, presort='deprecated',\n",
            "                       random_state=68574553, splitter='best')\n",
            "\n",
            "Numero de nós: 155\n",
            "Profundidade da árvore: 12\n",
            "Features importantes: [0.02405605 0.07287086 0.         0.00268133 0.02495422 0.02443017\n",
            " 0.05737589 0.00839919 0.04053885 0.18414461 0.09506584 0.19446085\n",
            " 0.05867157 0.04817283 0.00419864 0.1599791 ]\n",
            "\n",
            "Objeto: DecisionTreeClassifier(ccp_alpha=0.0, class_weight=None, criterion='gini',\n",
            "                       max_depth=None, max_features='auto', max_leaf_nodes=None,\n",
            "                       min_impurity_decrease=0.0, min_impurity_split=None,\n",
            "                       min_samples_leaf=1, min_samples_split=2,\n",
            "                       min_weight_fraction_leaf=0.0, presort='deprecated',\n",
            "                       random_state=419498548, splitter='best')\n",
            "\n",
            "Numero de nós: 143\n",
            "Profundidade da árvore: 13\n",
            "Features importantes: [0.04419723 0.03873535 0.044724   0.00907495 0.03287661 0.\n",
            " 0.02220779 0.         0.06288298 0.1116159  0.15916775 0.22011064\n",
            " 0.10428477 0.03821744 0.02722695 0.08467764]\n",
            "\n",
            "Objeto: DecisionTreeClassifier(ccp_alpha=0.0, class_weight=None, criterion='gini',\n",
            "                       max_depth=None, max_features='auto', max_leaf_nodes=None,\n",
            "                       min_impurity_decrease=0.0, min_impurity_split=None,\n",
            "                       min_samples_leaf=1, min_samples_split=2,\n",
            "                       min_weight_fraction_leaf=0.0, presort='deprecated',\n",
            "                       random_state=991681409, splitter='best')\n",
            "\n",
            "Numero de nós: 135\n",
            "Profundidade da árvore: 12\n",
            "Features importantes: [0.03327059 0.0793102  0.00605275 0.00680934 0.00890618 0.00786857\n",
            " 0.02350301 0.00246534 0.11344641 0.22677763 0.11215327 0.09173901\n",
            " 0.0941665  0.00453956 0.07634928 0.11264237]\n",
            "\n",
            "Objeto: DecisionTreeClassifier(ccp_alpha=0.0, class_weight=None, criterion='gini',\n",
            "                       max_depth=None, max_features='auto', max_leaf_nodes=None,\n",
            "                       min_impurity_decrease=0.0, min_impurity_split=None,\n",
            "                       min_samples_leaf=1, min_samples_split=2,\n",
            "                       min_weight_fraction_leaf=0.0, presort='deprecated',\n",
            "                       random_state=791274835, splitter='best')\n",
            "\n",
            "Numero de nós: 143\n",
            "Profundidade da árvore: 10\n",
            "Features importantes: [0.04930573 0.04393662 0.05967294 0.01772681 0.03764711 0.\n",
            " 0.01226093 0.01368227 0.01996723 0.1119081  0.19078763 0.0917973\n",
            " 0.05694192 0.03905676 0.01803572 0.23727295]\n",
            "\n",
            "Objeto: DecisionTreeClassifier(ccp_alpha=0.0, class_weight=None, criterion='gini',\n",
            "                       max_depth=None, max_features='auto', max_leaf_nodes=None,\n",
            "                       min_impurity_decrease=0.0, min_impurity_split=None,\n",
            "                       min_samples_leaf=1, min_samples_split=2,\n",
            "                       min_weight_fraction_leaf=0.0, presort='deprecated',\n",
            "                       random_state=1035196507, splitter='best')\n",
            "\n",
            "Numero de nós: 153\n",
            "Profundidade da árvore: 12\n",
            "Features importantes: [0.04012318 0.01248261 0.03189858 0.01308788 0.0108384  0.01573799\n",
            " 0.02872417 0.0063887  0.02152384 0.22196718 0.13897789 0.29252579\n",
            " 0.09828954 0.01376975 0.01140839 0.04225612]\n",
            "\n",
            "Objeto: DecisionTreeClassifier(ccp_alpha=0.0, class_weight=None, criterion='gini',\n",
            "                       max_depth=None, max_features='auto', max_leaf_nodes=None,\n",
            "                       min_impurity_decrease=0.0, min_impurity_split=None,\n",
            "                       min_samples_leaf=1, min_samples_split=2,\n",
            "                       min_weight_fraction_leaf=0.0, presort='deprecated',\n",
            "                       random_state=1890440558, splitter='best')\n",
            "\n",
            "Numero de nós: 137\n",
            "Profundidade da árvore: 15\n",
            "Features importantes: [0.01751854 0.02335849 0.03194988 0.01780125 0.01994148 0.01392061\n",
            " 0.04889524 0.00451479 0.02611635 0.34509563 0.15221822 0.09691693\n",
            " 0.07893802 0.09771532 0.00386982 0.02122944]\n",
            "\n",
            "Objeto: DecisionTreeClassifier(ccp_alpha=0.0, class_weight=None, criterion='gini',\n",
            "                       max_depth=None, max_features='auto', max_leaf_nodes=None,\n",
            "                       min_impurity_decrease=0.0, min_impurity_split=None,\n",
            "                       min_samples_leaf=1, min_samples_split=2,\n",
            "                       min_weight_fraction_leaf=0.0, presort='deprecated',\n",
            "                       random_state=787110843, splitter='best')\n",
            "\n",
            "Numero de nós: 139\n",
            "Profundidade da árvore: 12\n",
            "Features importantes: [0.05239289 0.04416528 0.03412024 0.03242809 0.01934747 0.\n",
            " 0.01293918 0.00581518 0.02737348 0.20135038 0.19887472 0.07784548\n",
            " 0.11358222 0.07515934 0.08237206 0.02223399]\n",
            "\n",
            "Objeto: DecisionTreeClassifier(ccp_alpha=0.0, class_weight=None, criterion='gini',\n",
            "                       max_depth=None, max_features='auto', max_leaf_nodes=None,\n",
            "                       min_impurity_decrease=0.0, min_impurity_split=None,\n",
            "                       min_samples_leaf=1, min_samples_split=2,\n",
            "                       min_weight_fraction_leaf=0.0, presort='deprecated',\n",
            "                       random_state=524150214, splitter='best')\n",
            "\n",
            "Numero de nós: 149\n",
            "Profundidade da árvore: 13\n",
            "Features importantes: [0.03052466 0.0387441  0.00216179 0.01424845 0.05214757 0.01983766\n",
            " 0.0705016  0.00888269 0.09024149 0.2493324  0.168251   0.06473811\n",
            " 0.01990965 0.04624057 0.02692321 0.09731505]\n",
            "\n",
            "Objeto: DecisionTreeClassifier(ccp_alpha=0.0, class_weight=None, criterion='gini',\n",
            "                       max_depth=None, max_features='auto', max_leaf_nodes=None,\n",
            "                       min_impurity_decrease=0.0, min_impurity_split=None,\n",
            "                       min_samples_leaf=1, min_samples_split=2,\n",
            "                       min_weight_fraction_leaf=0.0, presort='deprecated',\n",
            "                       random_state=472432043, splitter='best')\n",
            "\n",
            "Numero de nós: 137\n",
            "Profundidade da árvore: 12\n",
            "Features importantes: [0.0109777  0.04190364 0.06368891 0.00813163 0.03282868 0.02775117\n",
            " 0.05795941 0.00879959 0.03110349 0.20539816 0.18257948 0.02431417\n",
            " 0.17271979 0.05182943 0.01001933 0.06999541]\n",
            "\n",
            "Objeto: DecisionTreeClassifier(ccp_alpha=0.0, class_weight=None, criterion='gini',\n",
            "                       max_depth=None, max_features='auto', max_leaf_nodes=None,\n",
            "                       min_impurity_decrease=0.0, min_impurity_split=None,\n",
            "                       min_samples_leaf=1, min_samples_split=2,\n",
            "                       min_weight_fraction_leaf=0.0, presort='deprecated',\n",
            "                       random_state=2126768636, splitter='best')\n",
            "\n",
            "Numero de nós: 137\n",
            "Profundidade da árvore: 14\n",
            "Features importantes: [0.05610587 0.03040406 0.04762391 0.02256226 0.03222168 0.01485847\n",
            " 0.03997688 0.00945969 0.00455186 0.2054995  0.21468355 0.12077937\n",
            " 0.10348495 0.         0.01375673 0.08403122]\n",
            "\n",
            "Objeto: DecisionTreeClassifier(ccp_alpha=0.0, class_weight=None, criterion='gini',\n",
            "                       max_depth=None, max_features='auto', max_leaf_nodes=None,\n",
            "                       min_impurity_decrease=0.0, min_impurity_split=None,\n",
            "                       min_samples_leaf=1, min_samples_split=2,\n",
            "                       min_weight_fraction_leaf=0.0, presort='deprecated',\n",
            "                       random_state=1431061255, splitter='best')\n",
            "\n",
            "Numero de nós: 147\n",
            "Profundidade da árvore: 9\n",
            "Features importantes: [0.02901365 0.01328236 0.01741915 0.00737752 0.03260686 0.01690682\n",
            " 0.08949966 0.00553036 0.11447973 0.18776996 0.09897372 0.03906339\n",
            " 0.16012837 0.03935834 0.05237802 0.09621209]\n",
            "\n",
            "Objeto: DecisionTreeClassifier(ccp_alpha=0.0, class_weight=None, criterion='gini',\n",
            "                       max_depth=None, max_features='auto', max_leaf_nodes=None,\n",
            "                       min_impurity_decrease=0.0, min_impurity_split=None,\n",
            "                       min_samples_leaf=1, min_samples_split=2,\n",
            "                       min_weight_fraction_leaf=0.0, presort='deprecated',\n",
            "                       random_state=147697582, splitter='best')\n",
            "\n",
            "Numero de nós: 153\n",
            "Profundidade da árvore: 12\n",
            "Features importantes: [0.03629686 0.0669626  0.01277879 0.         0.06149159 0.\n",
            " 0.0354082  0.02663961 0.03942165 0.22328182 0.07692342 0.17448904\n",
            " 0.04051985 0.07998408 0.00491322 0.12088928]\n",
            "\n",
            "Objeto: DecisionTreeClassifier(ccp_alpha=0.0, class_weight=None, criterion='gini',\n",
            "                       max_depth=None, max_features='auto', max_leaf_nodes=None,\n",
            "                       min_impurity_decrease=0.0, min_impurity_split=None,\n",
            "                       min_samples_leaf=1, min_samples_split=2,\n",
            "                       min_weight_fraction_leaf=0.0, presort='deprecated',\n",
            "                       random_state=744595490, splitter='best')\n",
            "\n",
            "Numero de nós: 143\n",
            "Profundidade da árvore: 11\n",
            "Features importantes: [0.07935615 0.03727341 0.01970432 0.01333482 0.00862831 0.01175978\n",
            " 0.03450866 0.00237023 0.02617672 0.26528834 0.16101297 0.12172108\n",
            " 0.01212966 0.04775985 0.02032636 0.13864935]\n",
            "\n",
            "Objeto: DecisionTreeClassifier(ccp_alpha=0.0, class_weight=None, criterion='gini',\n",
            "                       max_depth=None, max_features='auto', max_leaf_nodes=None,\n",
            "                       min_impurity_decrease=0.0, min_impurity_split=None,\n",
            "                       min_samples_leaf=1, min_samples_split=2,\n",
            "                       min_weight_fraction_leaf=0.0, presort='deprecated',\n",
            "                       random_state=1758017741, splitter='best')\n",
            "\n",
            "Numero de nós: 133\n",
            "Profundidade da árvore: 14\n",
            "Features importantes: [0.04813127 0.00225014 0.04510282 0.03921998 0.01680105 0.\n",
            " 0.03505626 0.01671533 0.06322584 0.07810232 0.38159529 0.05321375\n",
            " 0.08003074 0.03775743 0.01761116 0.08518661]\n",
            "\n",
            "Objeto: DecisionTreeClassifier(ccp_alpha=0.0, class_weight=None, criterion='gini',\n",
            "                       max_depth=None, max_features='auto', max_leaf_nodes=None,\n",
            "                       min_impurity_decrease=0.0, min_impurity_split=None,\n",
            "                       min_samples_leaf=1, min_samples_split=2,\n",
            "                       min_weight_fraction_leaf=0.0, presort='deprecated',\n",
            "                       random_state=1679592528, splitter='best')\n",
            "\n",
            "Numero de nós: 161\n",
            "Profundidade da árvore: 14\n",
            "Features importantes: [0.01211433 0.00227144 0.02624189 0.01507801 0.06242224 0.01222249\n",
            " 0.05843236 0.00820972 0.08697154 0.30755202 0.15298479 0.04397484\n",
            " 0.09352855 0.03037656 0.0110346  0.07658462]\n",
            "\n",
            "Objeto: DecisionTreeClassifier(ccp_alpha=0.0, class_weight=None, criterion='gini',\n",
            "                       max_depth=None, max_features='auto', max_leaf_nodes=None,\n",
            "                       min_impurity_decrease=0.0, min_impurity_split=None,\n",
            "                       min_samples_leaf=1, min_samples_split=2,\n",
            "                       min_weight_fraction_leaf=0.0, presort='deprecated',\n",
            "                       random_state=1111451555, splitter='best')\n",
            "\n",
            "Numero de nós: 159\n",
            "Profundidade da árvore: 13\n",
            "Features importantes: [0.03371428 0.02791778 0.03424518 0.00971108 0.01260639 0.02331235\n",
            " 0.03935463 0.01664674 0.04660177 0.15522851 0.20008247 0.04379611\n",
            " 0.11019126 0.00908231 0.01968038 0.21782876]\n",
            "\n",
            "Objeto: DecisionTreeClassifier(ccp_alpha=0.0, class_weight=None, criterion='gini',\n",
            "                       max_depth=None, max_features='auto', max_leaf_nodes=None,\n",
            "                       min_impurity_decrease=0.0, min_impurity_split=None,\n",
            "                       min_samples_leaf=1, min_samples_split=2,\n",
            "                       min_weight_fraction_leaf=0.0, presort='deprecated',\n",
            "                       random_state=782698033, splitter='best')\n",
            "\n",
            "Numero de nós: 141\n",
            "Profundidade da árvore: 12\n",
            "Features importantes: [0.02212414 0.01140189 0.04103917 0.00496616 0.03738077 0.01406233\n",
            " 0.04482729 0.01094581 0.03288612 0.2532234  0.14178916 0.21499408\n",
            " 0.03708222 0.00310613 0.01317157 0.11699975]\n",
            "\n",
            "Objeto: DecisionTreeClassifier(ccp_alpha=0.0, class_weight=None, criterion='gini',\n",
            "                       max_depth=None, max_features='auto', max_leaf_nodes=None,\n",
            "                       min_impurity_decrease=0.0, min_impurity_split=None,\n",
            "                       min_samples_leaf=1, min_samples_split=2,\n",
            "                       min_weight_fraction_leaf=0.0, presort='deprecated',\n",
            "                       random_state=698027879, splitter='best')\n",
            "\n",
            "Numero de nós: 139\n",
            "Profundidade da árvore: 13\n",
            "Features importantes: [0.03423218 0.05216073 0.00973608 0.02060539 0.03569464 0.01008597\n",
            " 0.02647956 0.00353778 0.01384349 0.35084419 0.09558938 0.04985629\n",
            " 0.17131111 0.04350412 0.01919777 0.06332131]\n",
            "\n",
            "Objeto: DecisionTreeClassifier(ccp_alpha=0.0, class_weight=None, criterion='gini',\n",
            "                       max_depth=None, max_features='auto', max_leaf_nodes=None,\n",
            "                       min_impurity_decrease=0.0, min_impurity_split=None,\n",
            "                       min_samples_leaf=1, min_samples_split=2,\n",
            "                       min_weight_fraction_leaf=0.0, presort='deprecated',\n",
            "                       random_state=1096768899, splitter='best')\n",
            "\n",
            "Numero de nós: 139\n",
            "Profundidade da árvore: 14\n",
            "Features importantes: [0.         0.0249324  0.02609245 0.00458878 0.02371732 0.04567503\n",
            " 0.03456189 0.01070716 0.         0.29225357 0.11619777 0.12902698\n",
            " 0.20301889 0.01556413 0.02529331 0.04837032]\n",
            "\n",
            "Objeto: DecisionTreeClassifier(ccp_alpha=0.0, class_weight=None, criterion='gini',\n",
            "                       max_depth=None, max_features='auto', max_leaf_nodes=None,\n",
            "                       min_impurity_decrease=0.0, min_impurity_split=None,\n",
            "                       min_samples_leaf=1, min_samples_split=2,\n",
            "                       min_weight_fraction_leaf=0.0, presort='deprecated',\n",
            "                       random_state=1338788865, splitter='best')\n",
            "\n",
            "Numero de nós: 133\n",
            "Profundidade da árvore: 14\n",
            "Features importantes: [0.02079441 0.03049348 0.05640167 0.         0.03613227 0.00685621\n",
            " 0.02330721 0.01517179 0.02109603 0.13224245 0.33294826 0.0839023\n",
            " 0.12847814 0.01901963 0.01110325 0.0820529 ]\n",
            "\n",
            "Objeto: DecisionTreeClassifier(ccp_alpha=0.0, class_weight=None, criterion='gini',\n",
            "                       max_depth=None, max_features='auto', max_leaf_nodes=None,\n",
            "                       min_impurity_decrease=0.0, min_impurity_split=None,\n",
            "                       min_samples_leaf=1, min_samples_split=2,\n",
            "                       min_weight_fraction_leaf=0.0, presort='deprecated',\n",
            "                       random_state=1826030589, splitter='best')\n",
            "\n",
            "Numero de nós: 151\n",
            "Profundidade da árvore: 15\n",
            "Features importantes: [0.04419803 0.02072509 0.06741711 0.01647096 0.0283577  0.01565384\n",
            " 0.02754494 0.01458131 0.01318523 0.07967321 0.31346434 0.06736691\n",
            " 0.12009963 0.07761176 0.0037468  0.08990314]\n",
            "\n",
            "Objeto: DecisionTreeClassifier(ccp_alpha=0.0, class_weight=None, criterion='gini',\n",
            "                       max_depth=None, max_features='auto', max_leaf_nodes=None,\n",
            "                       min_impurity_decrease=0.0, min_impurity_split=None,\n",
            "                       min_samples_leaf=1, min_samples_split=2,\n",
            "                       min_weight_fraction_leaf=0.0, presort='deprecated',\n",
            "                       random_state=86191493, splitter='best')\n",
            "\n",
            "Numero de nós: 145\n",
            "Profundidade da árvore: 15\n",
            "Features importantes: [0.05560642 0.02644816 0.03265252 0.03770201 0.03081744 0.01537615\n",
            " 0.0491411  0.02181863 0.05550227 0.09896154 0.4150014  0.00615926\n",
            " 0.06183777 0.01923685 0.01098599 0.06275248]\n",
            "\n",
            "Objeto: DecisionTreeClassifier(ccp_alpha=0.0, class_weight=None, criterion='gini',\n",
            "                       max_depth=None, max_features='auto', max_leaf_nodes=None,\n",
            "                       min_impurity_decrease=0.0, min_impurity_split=None,\n",
            "                       min_samples_leaf=1, min_samples_split=2,\n",
            "                       min_weight_fraction_leaf=0.0, presort='deprecated',\n",
            "                       random_state=893102645, splitter='best')\n",
            "\n",
            "Numero de nós: 127\n",
            "Profundidade da árvore: 12\n",
            "Features importantes: [0.04265311 0.02614374 0.         0.01503073 0.03905199 0.01312706\n",
            " 0.05590388 0.01560443 0.10444719 0.17147116 0.15224131 0.06047891\n",
            " 0.11618089 0.04043608 0.07307597 0.07415355]\n",
            "\n",
            "Objeto: DecisionTreeClassifier(ccp_alpha=0.0, class_weight=None, criterion='gini',\n",
            "                       max_depth=None, max_features='auto', max_leaf_nodes=None,\n",
            "                       min_impurity_decrease=0.0, min_impurity_split=None,\n",
            "                       min_samples_leaf=1, min_samples_split=2,\n",
            "                       min_weight_fraction_leaf=0.0, presort='deprecated',\n",
            "                       random_state=200619113, splitter='best')\n",
            "\n",
            "Numero de nós: 133\n",
            "Profundidade da árvore: 12\n",
            "Features importantes: [0.05160867 0.01297918 0.03255441 0.04904243 0.03556986 0.01200946\n",
            " 0.0415247  0.0047007  0.06379685 0.14447578 0.29043394 0.07608421\n",
            " 0.05079415 0.04046389 0.01754066 0.07642111]\n",
            "\n",
            "Objeto: DecisionTreeClassifier(ccp_alpha=0.0, class_weight=None, criterion='gini',\n",
            "                       max_depth=None, max_features='auto', max_leaf_nodes=None,\n",
            "                       min_impurity_decrease=0.0, min_impurity_split=None,\n",
            "                       min_samples_leaf=1, min_samples_split=2,\n",
            "                       min_weight_fraction_leaf=0.0, presort='deprecated',\n",
            "                       random_state=290770691, splitter='best')\n",
            "\n",
            "Numero de nós: 161\n",
            "Profundidade da árvore: 11\n",
            "Features importantes: [0.06914295 0.05260848 0.01714645 0.01464633 0.0501669  0.04466494\n",
            " 0.02700053 0.0044307  0.04145237 0.22900054 0.07802291 0.17804188\n",
            " 0.10529284 0.02866624 0.0072239  0.05249204]\n",
            "\n",
            "Objeto: DecisionTreeClassifier(ccp_alpha=0.0, class_weight=None, criterion='gini',\n",
            "                       max_depth=None, max_features='auto', max_leaf_nodes=None,\n",
            "                       min_impurity_decrease=0.0, min_impurity_split=None,\n",
            "                       min_samples_leaf=1, min_samples_split=2,\n",
            "                       min_weight_fraction_leaf=0.0, presort='deprecated',\n",
            "                       random_state=793943861, splitter='best')\n",
            "\n",
            "Numero de nós: 141\n",
            "Profundidade da árvore: 11\n",
            "Features importantes: [0.04607905 0.04764687 0.00689077 0.00655152 0.03996434 0.00087845\n",
            " 0.06900313 0.0104535  0.04746904 0.19646124 0.14469896 0.08114172\n",
            " 0.10830889 0.08955617 0.01769827 0.08719807]\n",
            "\n",
            "Objeto: DecisionTreeClassifier(ccp_alpha=0.0, class_weight=None, criterion='gini',\n",
            "                       max_depth=None, max_features='auto', max_leaf_nodes=None,\n",
            "                       min_impurity_decrease=0.0, min_impurity_split=None,\n",
            "                       min_samples_leaf=1, min_samples_split=2,\n",
            "                       min_weight_fraction_leaf=0.0, presort='deprecated',\n",
            "                       random_state=134489564, splitter='best')\n"
          ],
          "name": "stdout"
        }
      ]
    },
    {
      "cell_type": "code",
      "metadata": {
        "id": "CnVpYEuK-CFq"
      },
      "source": [
        "# Treinando modelo de arvore de decisão\r\n",
        "from sklearn import tree"
      ],
      "execution_count": 18,
      "outputs": []
    },
    {
      "cell_type": "code",
      "metadata": {
        "id": "OUe7gyrw-CKZ"
      },
      "source": [
        "arvore = tree.DecisionTreeClassifier(random_state=42)"
      ],
      "execution_count": 19,
      "outputs": []
    },
    {
      "cell_type": "code",
      "metadata": {
        "id": "N8GTt5Xp-CNK",
        "colab": {
          "base_uri": "https://localhost:8080/"
        },
        "outputId": "d609cc26-f1d4-4ed9-db2a-5bf6883ad7f5"
      },
      "source": [
        "arvore.fit(X_train, y_train)"
      ],
      "execution_count": 20,
      "outputs": [
        {
          "output_type": "execute_result",
          "data": {
            "text/plain": [
              "DecisionTreeClassifier(ccp_alpha=0.0, class_weight=None, criterion='gini',\n",
              "                       max_depth=None, max_features=None, max_leaf_nodes=None,\n",
              "                       min_impurity_decrease=0.0, min_impurity_split=None,\n",
              "                       min_samples_leaf=1, min_samples_split=2,\n",
              "                       min_weight_fraction_leaf=0.0, presort='deprecated',\n",
              "                       random_state=42, splitter='best')"
            ]
          },
          "metadata": {
            "tags": []
          },
          "execution_count": 20
        }
      ]
    },
    {
      "cell_type": "code",
      "metadata": {
        "id": "Py084GAO9X0e",
        "colab": {
          "base_uri": "https://localhost:8080/"
        },
        "outputId": "93f5a177-6bd8-4e9f-f5c1-b285581d26f3"
      },
      "source": [
        "print(classification_report(y_test, arvore.predict(X_test)))"
      ],
      "execution_count": 21,
      "outputs": [
        {
          "output_type": "stream",
          "text": [
            "              precision    recall  f1-score   support\n",
            "\n",
            "           0       0.65      0.55      0.60        31\n",
            "           1       0.73      0.73      0.73        45\n",
            "           2       0.64      0.69      0.67        68\n",
            "\n",
            "    accuracy                           0.67       144\n",
            "   macro avg       0.68      0.66      0.67       144\n",
            "weighted avg       0.67      0.67      0.67       144\n",
            "\n"
          ],
          "name": "stdout"
        }
      ]
    },
    {
      "cell_type": "markdown",
      "metadata": {
        "id": "FijHGzTFP9tI"
      },
      "source": [
        "# Mudando o valor de max_depth (profundidade da árvore)"
      ]
    },
    {
      "cell_type": "code",
      "metadata": {
        "id": "0i3CMQyCP6ag"
      },
      "source": [
        "# Criando uma função para verificar o overfitting do modelo\r\n",
        "def algorandom (max_depth):\r\n",
        "  if max_depth == 0:\r\n",
        "    randomf = RandomForestClassifier(random_state=42)\r\n",
        "  else:\r\n",
        "    randomf = RandomForestClassifier(random_state=42, max_depth=max_depth)\r\n",
        "  randomf.fit(X_train, y_train)\r\n",
        "\r\n",
        "  score_train = randomf.score(X_train, y_train)\r\n",
        "  score_test = randomf.score (X_test, y_test)\r\n",
        "  print('Teste de acurácia',f'\\nValor de depth = {max_depth},', f'Treino = {score_train},', f'Teste = {score_test}')\r\n",
        "\r\n",
        "  return"
      ],
      "execution_count": 22,
      "outputs": []
    },
    {
      "cell_type": "code",
      "metadata": {
        "colab": {
          "base_uri": "https://localhost:8080/"
        },
        "id": "GotODZqMP6e4",
        "outputId": "4b798bb9-2092-4fa4-fee3-e791f3c8cf91"
      },
      "source": [
        "# Aplicando a função em um looping para identificar o melhor valor\r\n",
        "for numero in range(1,21):\r\n",
        "  algorandom(numero)\r\n",
        "  # O valor de depth igual a 4 foi o que apresenntou melhor resultado, evitando o overfitiing "
      ],
      "execution_count": 23,
      "outputs": [
        {
          "output_type": "stream",
          "text": [
            "Teste de acurácia \n",
            "Valor de depth = 1, Treino = 0.6547619047619048, Teste = 0.6875\n",
            "Teste de acurácia \n",
            "Valor de depth = 2, Treino = 0.7738095238095238, Teste = 0.7569444444444444\n",
            "Teste de acurácia \n",
            "Valor de depth = 3, Treino = 0.8154761904761905, Teste = 0.7638888888888888\n",
            "Teste de acurácia \n",
            "Valor de depth = 4, Treino = 0.8511904761904762, Teste = 0.8055555555555556\n",
            "Teste de acurácia \n",
            "Valor de depth = 5, Treino = 0.9107142857142857, Teste = 0.8055555555555556\n",
            "Teste de acurácia \n",
            "Valor de depth = 6, Treino = 0.9523809523809523, Teste = 0.8125\n",
            "Teste de acurácia \n",
            "Valor de depth = 7, Treino = 0.9761904761904762, Teste = 0.7986111111111112\n",
            "Teste de acurácia \n",
            "Valor de depth = 8, Treino = 0.9910714285714286, Teste = 0.7986111111111112\n",
            "Teste de acurácia \n",
            "Valor de depth = 9, Treino = 1.0, Teste = 0.8125\n",
            "Teste de acurácia \n",
            "Valor de depth = 10, Treino = 1.0, Teste = 0.7986111111111112\n",
            "Teste de acurácia \n",
            "Valor de depth = 11, Treino = 1.0, Teste = 0.7986111111111112\n",
            "Teste de acurácia \n",
            "Valor de depth = 12, Treino = 1.0, Teste = 0.8055555555555556\n",
            "Teste de acurácia \n",
            "Valor de depth = 13, Treino = 1.0, Teste = 0.7916666666666666\n",
            "Teste de acurácia \n",
            "Valor de depth = 14, Treino = 1.0, Teste = 0.8125\n",
            "Teste de acurácia \n",
            "Valor de depth = 15, Treino = 1.0, Teste = 0.8055555555555556\n",
            "Teste de acurácia \n",
            "Valor de depth = 16, Treino = 1.0, Teste = 0.8055555555555556\n",
            "Teste de acurácia \n",
            "Valor de depth = 17, Treino = 1.0, Teste = 0.8055555555555556\n",
            "Teste de acurácia \n",
            "Valor de depth = 18, Treino = 1.0, Teste = 0.8055555555555556\n",
            "Teste de acurácia \n",
            "Valor de depth = 19, Treino = 1.0, Teste = 0.8055555555555556\n",
            "Teste de acurácia \n",
            "Valor de depth = 20, Treino = 1.0, Teste = 0.8055555555555556\n"
          ],
          "name": "stdout"
        }
      ]
    },
    {
      "cell_type": "code",
      "metadata": {
        "id": "EqaCAUpeP6jT"
      },
      "source": [
        "# Construindo a mesma lógica para a Árvore de dedcisão\r\n",
        "def algodecisao (max_depth):\r\n",
        "  if max_depth == 0:\r\n",
        "    arvore = tree.DecisionTreeClassifier(random_state=42)\r\n",
        "  else:\r\n",
        "    arvore = tree.DecisionTreeClassifier(random_state=42, max_depth=max_depth)\r\n",
        "  arvore.fit(X_train, y_train)\r\n",
        "\r\n",
        "  score_train = arvore.score(X_train, y_train)\r\n",
        "  score_test = arvore.score(X_test, y_test)\r\n",
        "  print('Teste de acurácia',f'\\nValor de depth = {max_depth},', f'Treino = {score_train},', f'Teste = {score_test}')\r\n",
        "\r\n",
        "  return"
      ],
      "execution_count": 24,
      "outputs": []
    },
    {
      "cell_type": "code",
      "metadata": {
        "colab": {
          "base_uri": "https://localhost:8080/"
        },
        "id": "Au2RzBVaP6n4",
        "outputId": "a597d20e-ec1e-4eb0-cec5-677b49149fcd"
      },
      "source": [
        "# Aplicando a função em um looping\r\n",
        "for numero in range(1,21):\r\n",
        "  algodecisao(numero)\r\n",
        "# O valor de depth = 3 foi o que apresentou o melhor resultado, evitando o overfitting"
      ],
      "execution_count": 25,
      "outputs": [
        {
          "output_type": "stream",
          "text": [
            "Teste de acurácia \n",
            "Valor de depth = 1, Treino = 0.5416666666666666, Teste = 0.5\n",
            "Teste de acurácia \n",
            "Valor de depth = 2, Treino = 0.7023809523809523, Teste = 0.6666666666666666\n",
            "Teste de acurácia \n",
            "Valor de depth = 3, Treino = 0.7470238095238095, Teste = 0.7152777777777778\n",
            "Teste de acurácia \n",
            "Valor de depth = 4, Treino = 0.8005952380952381, Teste = 0.6944444444444444\n",
            "Teste de acurácia \n",
            "Valor de depth = 5, Treino = 0.8422619047619048, Teste = 0.6805555555555556\n",
            "Teste de acurácia \n",
            "Valor de depth = 6, Treino = 0.875, Teste = 0.6527777777777778\n",
            "Teste de acurácia \n",
            "Valor de depth = 7, Treino = 0.9226190476190477, Teste = 0.6666666666666666\n",
            "Teste de acurácia \n",
            "Valor de depth = 8, Treino = 0.9553571428571429, Teste = 0.6458333333333334\n",
            "Teste de acurácia \n",
            "Valor de depth = 9, Treino = 0.9672619047619048, Teste = 0.6597222222222222\n",
            "Teste de acurácia \n",
            "Valor de depth = 10, Treino = 0.9851190476190477, Teste = 0.6458333333333334\n",
            "Teste de acurácia \n",
            "Valor de depth = 11, Treino = 0.9940476190476191, Teste = 0.6736111111111112\n",
            "Teste de acurácia \n",
            "Valor de depth = 12, Treino = 1.0, Teste = 0.6736111111111112\n",
            "Teste de acurácia \n",
            "Valor de depth = 13, Treino = 1.0, Teste = 0.6736111111111112\n",
            "Teste de acurácia \n",
            "Valor de depth = 14, Treino = 1.0, Teste = 0.6736111111111112\n",
            "Teste de acurácia \n",
            "Valor de depth = 15, Treino = 1.0, Teste = 0.6736111111111112\n",
            "Teste de acurácia \n",
            "Valor de depth = 16, Treino = 1.0, Teste = 0.6736111111111112\n",
            "Teste de acurácia \n",
            "Valor de depth = 17, Treino = 1.0, Teste = 0.6736111111111112\n",
            "Teste de acurácia \n",
            "Valor de depth = 18, Treino = 1.0, Teste = 0.6736111111111112\n",
            "Teste de acurácia \n",
            "Valor de depth = 19, Treino = 1.0, Teste = 0.6736111111111112\n",
            "Teste de acurácia \n",
            "Valor de depth = 20, Treino = 1.0, Teste = 0.6736111111111112\n"
          ],
          "name": "stdout"
        }
      ]
    },
    {
      "cell_type": "markdown",
      "metadata": {
        "id": "9cOQl7_5V1_e"
      },
      "source": [
        "# Aplicando os testes de validação cruzada"
      ]
    },
    {
      "cell_type": "code",
      "metadata": {
        "id": "CH2K4g_bV6Gu"
      },
      "source": [
        "def validacaocruz_random (cv):\r\n",
        "  randomf = RandomForestClassifier(max_depth=4, random_state=42)\r\n",
        "  resultado_randomf = cross_val_predict(randomf, treino, classes, cv = cv)\r\n",
        "  report = classification_report(classes, resultado_randomf)\r\n",
        "  acuracia = cross_val_score(randomf, treino, classes, cv = cv)\r\n",
        "  print(report)\r\n",
        "  print(f'Acurácia das partições {acuracia}', f'\\n\\nAcurácia média do modelo {acuracia.mean()}')\r\n",
        "  return "
      ],
      "execution_count": 52,
      "outputs": []
    },
    {
      "cell_type": "code",
      "metadata": {
        "colab": {
          "base_uri": "https://localhost:8080/"
        },
        "id": "SONS5mUgV6MC",
        "outputId": "9772bf38-06b3-442b-cb97-6e33d4c920a0"
      },
      "source": [
        "validacaocruz_random(10)"
      ],
      "execution_count": 53,
      "outputs": [
        {
          "output_type": "stream",
          "text": [
            "              precision    recall  f1-score   support\n",
            "\n",
            "           0       0.70      0.63      0.66       142\n",
            "           1       0.82      0.77      0.79       127\n",
            "           2       0.65      0.71      0.68       211\n",
            "\n",
            "    accuracy                           0.70       480\n",
            "   macro avg       0.72      0.71      0.71       480\n",
            "weighted avg       0.71      0.70      0.70       480\n",
            "\n",
            "Acurácia das partições [0.66666667 0.6875     0.66666667 0.66666667 0.70833333 0.72916667\n",
            " 0.64583333 0.72916667 0.83333333 0.70833333] \n",
            "\n",
            "Acurácia média do modelo 0.7041666666666666\n"
          ],
          "name": "stdout"
        }
      ]
    },
    {
      "cell_type": "markdown",
      "metadata": {
        "id": "RaV4YVNyF-qW"
      },
      "source": [
        "#### Árvore de decisão"
      ]
    },
    {
      "cell_type": "code",
      "metadata": {
        "id": "deaxLXo3V6QU"
      },
      "source": [
        "def validacaocruz_arvore (cv):\r\n",
        "  arvore = tree.DecisionTreeClassifier(max_depth=3, random_state=42)\r\n",
        "  resultado_arvore = cross_val_predict(arvore, treino, classes, cv = cv)\r\n",
        "  report = classification_report(classes, resultado_arvore)\r\n",
        "  acuracia = cross_val_score(arvore, treino, classes, cv = cv)\r\n",
        "  print(report)\r\n",
        "  print(f'Acurácia das partições {acuracia}', f'\\n\\nAcurácia média do modelo {acuracia.mean()}')\r\n",
        "  return "
      ],
      "execution_count": 28,
      "outputs": []
    },
    {
      "cell_type": "code",
      "metadata": {
        "colab": {
          "base_uri": "https://localhost:8080/"
        },
        "id": "WWlWj7lRV6UW",
        "outputId": "1bb603d5-2eaf-410c-f365-62e8917485b4"
      },
      "source": [
        "validacaocruz_arvore(10)"
      ],
      "execution_count": 29,
      "outputs": [
        {
          "output_type": "stream",
          "text": [
            "              precision    recall  f1-score   support\n",
            "\n",
            "           0       0.62      0.67      0.65       142\n",
            "           1       0.81      0.76      0.79       127\n",
            "           2       0.63      0.62      0.63       211\n",
            "\n",
            "    accuracy                           0.67       480\n",
            "   macro avg       0.69      0.68      0.69       480\n",
            "weighted avg       0.68      0.67      0.67       480\n",
            "\n",
            "Acurácia das partições [0.75       0.64583333 0.64583333 0.66666667 0.58333333 0.52083333\n",
            " 0.64583333 0.70833333 0.85416667 0.70833333] \n",
            "\n",
            "Acurácia média do modelo 0.6729166666666667\n"
          ],
          "name": "stdout"
        }
      ]
    },
    {
      "cell_type": "markdown",
      "metadata": {
        "id": "1BXxDTQNAM6_"
      },
      "source": [
        "# Verificando as features"
      ]
    },
    {
      "cell_type": "code",
      "metadata": {
        "id": "kqQTZvZyV6YK",
        "colab": {
          "base_uri": "https://localhost:8080/"
        },
        "outputId": "885a398d-12c3-4d85-cb4b-13a48827f160"
      },
      "source": [
        "randomf.feature_importances_"
      ],
      "execution_count": 30,
      "outputs": [
        {
          "output_type": "execute_result",
          "data": {
            "text/plain": [
              "array([0.0329676 , 0.03769887, 0.03108423, 0.01358451, 0.0331206 ,\n",
              "       0.01904412, 0.04192284, 0.01199052, 0.04393174, 0.16490779,\n",
              "       0.19238494, 0.10684686, 0.09583997, 0.04048046, 0.02329476,\n",
              "       0.11090018])"
            ]
          },
          "metadata": {
            "tags": []
          },
          "execution_count": 30
        }
      ]
    },
    {
      "cell_type": "code",
      "metadata": {
        "colab": {
          "base_uri": "https://localhost:8080/"
        },
        "id": "_q-jrltm1swC",
        "outputId": "dd2d3373-0e31-4a82-876c-d0b8b6773c80"
      },
      "source": [
        "best_features = pd.Series(randomf.feature_importances_,index=X_train.columns).sort_values(ascending=False)\r\n",
        "print(best_features)"
      ],
      "execution_count": 31,
      "outputs": [
        {
          "output_type": "stream",
          "text": [
            "VisITedResources            0.192385\n",
            "raisedhands                 0.164908\n",
            "StudentAbsenceDays          0.110900\n",
            "AnnouncementsView           0.106847\n",
            "Discussion                  0.095840\n",
            "Relation                    0.043932\n",
            "Topic                       0.041923\n",
            "ParentAnsweringSurvey       0.040480\n",
            "NationalITy                 0.037699\n",
            "GradeID                     0.033121\n",
            "gender                      0.032968\n",
            "PlaceofBirth                0.031084\n",
            "ParentschoolSatisfaction    0.023295\n",
            "SectionID                   0.019044\n",
            "StageID                     0.013585\n",
            "Semester                    0.011991\n",
            "dtype: float64\n"
          ],
          "name": "stdout"
        }
      ]
    },
    {
      "cell_type": "code",
      "metadata": {
        "id": "tDZs9xnx3Ync"
      },
      "source": [
        "# Plotando o gráfico de importância das features\r\n",
        "def plot_grafico (lista):\r\n",
        "  %matplotlib inline\r\n",
        "  plt.figure(figsize=(14,8))\r\n",
        "  plt.style.use('classic')\r\n",
        "  sns.barplot(x = lista, y = lista.index)\r\n",
        "\r\n",
        "  plt.title('Características importantes')\r\n",
        "  plt.xlabel('Importância (%)')\r\n",
        "  plt.ylabel('Característica')\r\n",
        "\r\n",
        "  plt.show()"
      ],
      "execution_count": 32,
      "outputs": []
    },
    {
      "cell_type": "code",
      "metadata": {
        "colab": {
          "base_uri": "https://localhost:8080/",
          "height": 516
        },
        "id": "H5we0Tnz3Y-K",
        "outputId": "e27fd33d-b0e0-43bf-d213-2825ae3dbb96"
      },
      "source": [
        "plot_grafico(best_features)"
      ],
      "execution_count": 33,
      "outputs": [
        {
          "output_type": "display_data",
          "data": {
            "image/png": "[encoded data removed]",
            "text/plain": [
              "<Figure size 1008x576 with 1 Axes>"
            ]
          },
          "metadata": {
            "tags": [],
            "needs_background": "light"
          }
        }
      ]
    },
    {
      "cell_type": "code",
      "metadata": {
        "colab": {
          "base_uri": "https://localhost:8080/"
        },
        "id": "Jr6M_Rs74Cs6",
        "outputId": "8949454c-ed37-4f33-be0c-014662061cdc"
      },
      "source": [
        "print(plt.style.available)"
      ],
      "execution_count": 34,
      "outputs": [
        {
          "output_type": "stream",
          "text": [
            "['Solarize_Light2', '_classic_test_patch', 'bmh', 'classic', 'dark_background', 'fast', 'fivethirtyeight', 'ggplot', 'grayscale', 'seaborn', 'seaborn-bright', 'seaborn-colorblind', 'seaborn-dark', 'seaborn-dark-palette', 'seaborn-darkgrid', 'seaborn-deep', 'seaborn-muted', 'seaborn-notebook', 'seaborn-paper', 'seaborn-pastel', 'seaborn-poster', 'seaborn-talk', 'seaborn-ticks', 'seaborn-white', 'seaborn-whitegrid', 'tableau-colorblind10']\n"
          ],
          "name": "stdout"
        }
      ]
    },
    {
      "cell_type": "markdown",
      "metadata": {
        "id": "BoKBBxRPAZDr"
      },
      "source": [
        "# Excluindo features de menor importância"
      ]
    },
    {
      "cell_type": "code",
      "metadata": {
        "colab": {
          "base_uri": "https://localhost:8080/"
        },
        "id": "QwN8YzXP1s73",
        "outputId": "1eea2a86-1e63-4773-d553-d8e3c9beabd2"
      },
      "source": [
        "# Testando o modelo apenas com os valores de importância acima de 4%\r\n",
        "new_features = []\r\n",
        "excluidas = []\r\n",
        "for caracteristica, importancia in best_features.iteritems():\r\n",
        "  if importancia > 0.04:\r\n",
        "    print(f'característica {caracteristica}        importância {importancia}')\r\n",
        "    new_features.append(caracteristica)\r\n",
        "  else:\r\n",
        "    excluidas.append(caracteristica)\r\n",
        "    continue"
      ],
      "execution_count": 35,
      "outputs": [
        {
          "output_type": "stream",
          "text": [
            "característica VisITedResources        importância 0.1923849393640904\n",
            "característica raisedhands        importância 0.16490779030636074\n",
            "característica StudentAbsenceDays        importância 0.1109001826500748\n",
            "característica AnnouncementsView        importância 0.10684686322099576\n",
            "característica Discussion        importância 0.09583997010574757\n",
            "característica Relation        importância 0.04393174375929167\n",
            "característica Topic        importância 0.041922842943715156\n",
            "característica ParentAnsweringSurvey        importância 0.0404804630604466\n"
          ],
          "name": "stdout"
        }
      ]
    },
    {
      "cell_type": "code",
      "metadata": {
        "colab": {
          "base_uri": "https://localhost:8080/"
        },
        "id": "ue1Ez4dABf33",
        "outputId": "b01ab3f4-b5ad-4482-b3a6-fe13685eed1b"
      },
      "source": [
        "print(f'Utilizadas:  {new_features}')\r\n",
        "print(f'Excluídas:  {excluidas}')"
      ],
      "execution_count": 36,
      "outputs": [
        {
          "output_type": "stream",
          "text": [
            "Utilizadas:  ['VisITedResources', 'raisedhands', 'StudentAbsenceDays', 'AnnouncementsView', 'Discussion', 'Relation', 'Topic', 'ParentAnsweringSurvey']\n",
            "Excluídas:  ['NationalITy', 'GradeID', 'gender', 'PlaceofBirth', 'ParentschoolSatisfaction', 'SectionID', 'StageID', 'Semester']\n"
          ],
          "name": "stdout"
        }
      ]
    },
    {
      "cell_type": "markdown",
      "metadata": {
        "id": "ljb5Pcm7Crwu"
      },
      "source": [
        "# Treinando o modelo com as features acima de 4%"
      ]
    },
    {
      "cell_type": "code",
      "metadata": {
        "id": "UIuEn58hCxle"
      },
      "source": [
        "def validacaocruz_random (cv):\r\n",
        "  randomf = RandomForestClassifier(n_estimators = 100, max_depth=4, random_state=42)\r\n",
        "  resultado_randomf = cross_val_predict(randomf, treino[new_features], classes, cv = cv)\r\n",
        "  report = classification_report(classes, resultado_randomf)\r\n",
        "  acuracia = cross_val_score(randomf, treino[new_features], classes, cv = cv)\r\n",
        "  print(report)\r\n",
        "  print(f'Acurácia das partições {acuracia}', f'\\n\\nAcurácia média do modelo {acuracia.mean()}')\r\n",
        "  return "
      ],
      "execution_count": 37,
      "outputs": []
    },
    {
      "cell_type": "code",
      "metadata": {
        "colab": {
          "base_uri": "https://localhost:8080/"
        },
        "id": "PoNI5MT1Cxt7",
        "outputId": "ce285534-6b09-407b-b627-73928fe46b31"
      },
      "source": [
        "validacaocruz_random(10)"
      ],
      "execution_count": 38,
      "outputs": [
        {
          "output_type": "stream",
          "text": [
            "              precision    recall  f1-score   support\n",
            "\n",
            "           0       0.67      0.62      0.64       142\n",
            "           1       0.83      0.81      0.82       127\n",
            "           2       0.65      0.69      0.67       211\n",
            "\n",
            "    accuracy                           0.70       480\n",
            "   macro avg       0.72      0.71      0.71       480\n",
            "weighted avg       0.70      0.70      0.70       480\n",
            "\n",
            "Acurácia das partições [0.72916667 0.6875     0.6875     0.70833333 0.70833333 0.66666667\n",
            " 0.60416667 0.79166667 0.70833333 0.72916667] \n",
            "\n",
            "Acurácia média do modelo 0.7020833333333333\n"
          ],
          "name": "stdout"
        }
      ]
    },
    {
      "cell_type": "code",
      "metadata": {
        "id": "CPob6wPZCxpw"
      },
      "source": [
        "def validacaocruz_arvore (cv):\r\n",
        "  arvore = tree.DecisionTreeClassifier(max_depth=3, random_state=42)\r\n",
        "  resultado_arvore = cross_val_predict(arvore, treino[new_features], classes, cv = cv)\r\n",
        "  report = classification_report(classes, resultado_arvore)\r\n",
        "  acuracia = cross_val_score(arvore, treino[new_features], classes, cv = cv)\r\n",
        "  print(report)\r\n",
        "  print(f'Acurácia das partições {acuracia}', f'\\n\\nAcurácia média do modelo {acuracia.mean()}')\r\n",
        "  return "
      ],
      "execution_count": 39,
      "outputs": []
    },
    {
      "cell_type": "code",
      "metadata": {
        "colab": {
          "base_uri": "https://localhost:8080/"
        },
        "id": "zbeAv8JZCxyF",
        "outputId": "7dda5433-74b6-4b95-d11c-f8105f4a4121"
      },
      "source": [
        "validacaocruz_arvore(10)"
      ],
      "execution_count": 40,
      "outputs": [
        {
          "output_type": "stream",
          "text": [
            "              precision    recall  f1-score   support\n",
            "\n",
            "           0       0.63      0.65      0.64       142\n",
            "           1       0.81      0.76      0.79       127\n",
            "           2       0.63      0.64      0.63       211\n",
            "\n",
            "    accuracy                           0.68       480\n",
            "   macro avg       0.69      0.68      0.69       480\n",
            "weighted avg       0.68      0.68      0.68       480\n",
            "\n",
            "Acurácia das partições [0.75       0.64583333 0.64583333 0.6875     0.58333333 0.52083333\n",
            " 0.64583333 0.70833333 0.85416667 0.70833333] \n",
            "\n",
            "Acurácia média do modelo 0.675\n"
          ],
          "name": "stdout"
        }
      ]
    },
    {
      "cell_type": "code",
      "metadata": {
        "id": "a4Ny9RfMCx1Z"
      },
      "source": [
        "# Não aconteceram melhorias significativas"
      ],
      "execution_count": 41,
      "outputs": []
    },
    {
      "cell_type": "markdown",
      "metadata": {
        "id": "1mXTejn-w34C"
      },
      "source": [
        "# Utilizando GridSearchCV para melhorar os resultados\r\n"
      ]
    },
    {
      "cell_type": "code",
      "metadata": {
        "id": "ppUaNaRkf7tW"
      },
      "source": [
        "# Definindo os melhores parâmetros para min_samples_split, min_samples_leaf, max_depth e max_features\r\n",
        "from sklearn.model_selection import GridSearchCV"
      ],
      "execution_count": 42,
      "outputs": []
    },
    {
      "cell_type": "code",
      "metadata": {
        "id": "QndO2wn4hXWc"
      },
      "source": [
        "# min_samples_split, min_samples_leaf, max_depth e max_features\r\n",
        "criterion = ['gini', 'entropy']\r\n",
        "min_samples_leaf = [1, 3, 5, 7, 10, 15]\r\n",
        "min_samples_split = [2, 5, 7, 10, 15]\r\n",
        "max_depth = [10, 50, 100, 150, 200]\r\n",
        "n_estimators = [10, 30, 50, 100, 150, 200]"
      ],
      "execution_count": 43,
      "outputs": []
    },
    {
      "cell_type": "code",
      "metadata": {
        "id": "qjN1P98SkMzZ"
      },
      "source": [
        "parametros_grid = dict(n_estimators = n_estimators, criterion = criterion,\r\n",
        "                   max_depth = max_depth, min_samples_split = min_samples_split,\r\n",
        "                   min_samples_leaf = min_samples_leaf)"
      ],
      "execution_count": 44,
      "outputs": []
    },
    {
      "cell_type": "code",
      "metadata": {
        "colab": {
          "base_uri": "https://localhost:8080/"
        },
        "id": "gdnoq63XkM_C",
        "outputId": "46280429-b06b-4592-d2e0-160c7cadf3db"
      },
      "source": [
        "print(parametros_grid)"
      ],
      "execution_count": 45,
      "outputs": [
        {
          "output_type": "stream",
          "text": [
            "{'n_estimators': [10, 30, 50, 100, 150, 200], 'criterion': ['gini', 'entropy'], 'max_depth': [10, 50, 100, 150, 200], 'min_samples_split': [2, 5, 7, 10, 15], 'min_samples_leaf': [1, 3, 5, 7, 10, 15]}\n"
          ],
          "name": "stdout"
        }
      ]
    },
    {
      "cell_type": "code",
      "metadata": {
        "id": "x-Q4yGIbkrVg"
      },
      "source": [
        "randomf = RandomForestClassifier()"
      ],
      "execution_count": 46,
      "outputs": []
    },
    {
      "cell_type": "code",
      "metadata": {
        "id": "wxl1L4vikrRr"
      },
      "source": [
        "grid = GridSearchCV(randomf, parametros_grid, scoring='accuracy', cv = 10)"
      ],
      "execution_count": 47,
      "outputs": []
    },
    {
      "cell_type": "code",
      "metadata": {
        "colab": {
          "base_uri": "https://localhost:8080/"
        },
        "id": "3EF7k1WmkrYy",
        "outputId": "e87e848e-9fa8-40b1-9c92-443d4e201d91"
      },
      "source": [
        "grid.fit(treino, classes)"
      ],
      "execution_count": 48,
      "outputs": [
        {
          "output_type": "execute_result",
          "data": {
            "text/plain": [
              "GridSearchCV(cv=10, error_score=nan,\n",
              "             estimator=RandomForestClassifier(bootstrap=True, ccp_alpha=0.0,\n",
              "                                              class_weight=None,\n",
              "                                              criterion='gini', max_depth=None,\n",
              "                                              max_features='auto',\n",
              "                                              max_leaf_nodes=None,\n",
              "                                              max_samples=None,\n",
              "                                              min_impurity_decrease=0.0,\n",
              "                                              min_impurity_split=None,\n",
              "                                              min_samples_leaf=1,\n",
              "                                              min_samples_split=2,\n",
              "                                              min_weight_fraction_leaf=0.0,\n",
              "                                              n_estimators=100, n_jobs=None,\n",
              "                                              oob_score=False,\n",
              "                                              random_state=None, verbose=0,\n",
              "                                              warm_start=False),\n",
              "             iid='deprecated', n_jobs=None,\n",
              "             param_grid={'criterion': ['gini', 'entropy'],\n",
              "                         'max_depth': [10, 50, 100, 150, 200],\n",
              "                         'min_samples_leaf': [1, 3, 5, 7, 10, 15],\n",
              "                         'min_samples_split': [2, 5, 7, 10, 15],\n",
              "                         'n_estimators': [10, 30, 50, 100, 150, 200]},\n",
              "             pre_dispatch='2*n_jobs', refit=True, return_train_score=False,\n",
              "             scoring='accuracy', verbose=0)"
            ]
          },
          "metadata": {
            "tags": []
          },
          "execution_count": 48
        }
      ]
    },
    {
      "cell_type": "code",
      "metadata": {
        "colab": {
          "base_uri": "https://localhost:8080/"
        },
        "id": "Y2hrJlp0iKqz",
        "outputId": "0af8ec25-95b6-4549-ec91-a53d0e610d68"
      },
      "source": [
        "grid.best_score_"
      ],
      "execution_count": 49,
      "outputs": [
        {
          "output_type": "execute_result",
          "data": {
            "text/plain": [
              "0.74375"
            ]
          },
          "metadata": {
            "tags": []
          },
          "execution_count": 49
        }
      ]
    },
    {
      "cell_type": "code",
      "metadata": {
        "colab": {
          "base_uri": "https://localhost:8080/"
        },
        "id": "cSjmFdKriNfZ",
        "outputId": "a7ba0885-0bb2-4098-9e96-b8248c174c0c"
      },
      "source": [
        "grid.best_params_"
      ],
      "execution_count": 50,
      "outputs": [
        {
          "output_type": "execute_result",
          "data": {
            "text/plain": [
              "{'criterion': 'gini',\n",
              " 'max_depth': 200,\n",
              " 'min_samples_leaf': 5,\n",
              " 'min_samples_split': 7,\n",
              " 'n_estimators': 10}"
            ]
          },
          "metadata": {
            "tags": []
          },
          "execution_count": 50
        }
      ]
    },
    {
      "cell_type": "code",
      "metadata": {
        "colab": {
          "base_uri": "https://localhost:8080/"
        },
        "id": "_lcWyhGImNqm",
        "outputId": "5d65c95f-9195-4c6f-f858-8227fce69033"
      },
      "source": [
        "grid.best_estimator_"
      ],
      "execution_count": 51,
      "outputs": [
        {
          "output_type": "execute_result",
          "data": {
            "text/plain": [
              "RandomForestClassifier(bootstrap=True, ccp_alpha=0.0, class_weight=None,\n",
              "                       criterion='gini', max_depth=200, max_features='auto',\n",
              "                       max_leaf_nodes=None, max_samples=None,\n",
              "                       min_impurity_decrease=0.0, min_impurity_split=None,\n",
              "                       min_samples_leaf=5, min_samples_split=7,\n",
              "                       min_weight_fraction_leaf=0.0, n_estimators=10,\n",
              "                       n_jobs=None, oob_score=False, random_state=None,\n",
              "                       verbose=0, warm_start=False)"
            ]
          },
          "metadata": {
            "tags": []
          },
          "execution_count": 51
        }
      ]
    },
    {
      "cell_type": "markdown",
      "metadata": {
        "id": "RguXYaz-wnkU"
      },
      "source": [
        "Houve melhora no resultado quando aplicado o GridSearch, a acurácia passou de 70.2% para 74.37%"
      ]
    }
  ]
}